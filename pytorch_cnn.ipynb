{
  "nbformat": 4,
  "nbformat_minor": 0,
  "metadata": {
    "colab": {
      "name": "pytorch_cnn.ipynb",
      "provenance": [],
      "collapsed_sections": [
        "WtAL7Jyr75Tz"
      ]
    },
    "kernelspec": {
      "name": "python3",
      "display_name": "Python 3"
    },
    "language_info": {
      "name": "python"
    },
    "accelerator": "GPU",
    "gpuClass": "standard",
    "widgets": {
      "application/vnd.jupyter.widget-state+json": {
        "f3a414e1756a4dd6822c8f0d02fd266d": {
          "model_module": "@jupyter-widgets/controls",
          "model_name": "HBoxModel",
          "model_module_version": "1.5.0",
          "state": {
            "_dom_classes": [],
            "_model_module": "@jupyter-widgets/controls",
            "_model_module_version": "1.5.0",
            "_model_name": "HBoxModel",
            "_view_count": null,
            "_view_module": "@jupyter-widgets/controls",
            "_view_module_version": "1.5.0",
            "_view_name": "HBoxView",
            "box_style": "",
            "children": [
              "IPY_MODEL_a115a815e502461692b2c580e02acfdf",
              "IPY_MODEL_7f3060448d2a4e6bbeaee449ec6a1abe",
              "IPY_MODEL_b2ec93f6d98247fa8c6f5537ca696202"
            ],
            "layout": "IPY_MODEL_b82e233889384cc99a70c473bc2473a5"
          }
        },
        "a115a815e502461692b2c580e02acfdf": {
          "model_module": "@jupyter-widgets/controls",
          "model_name": "HTMLModel",
          "model_module_version": "1.5.0",
          "state": {
            "_dom_classes": [],
            "_model_module": "@jupyter-widgets/controls",
            "_model_module_version": "1.5.0",
            "_model_name": "HTMLModel",
            "_view_count": null,
            "_view_module": "@jupyter-widgets/controls",
            "_view_module_version": "1.5.0",
            "_view_name": "HTMLView",
            "description": "",
            "description_tooltip": null,
            "layout": "IPY_MODEL_87d2f2dd933b4b9b896cb79c4d118e65",
            "placeholder": "​",
            "style": "IPY_MODEL_01a64e0fb9ee47339518c99ceb80b5a0",
            "value": "100%"
          }
        },
        "7f3060448d2a4e6bbeaee449ec6a1abe": {
          "model_module": "@jupyter-widgets/controls",
          "model_name": "FloatProgressModel",
          "model_module_version": "1.5.0",
          "state": {
            "_dom_classes": [],
            "_model_module": "@jupyter-widgets/controls",
            "_model_module_version": "1.5.0",
            "_model_name": "FloatProgressModel",
            "_view_count": null,
            "_view_module": "@jupyter-widgets/controls",
            "_view_module_version": "1.5.0",
            "_view_name": "ProgressView",
            "bar_style": "success",
            "description": "",
            "description_tooltip": null,
            "layout": "IPY_MODEL_a41eefe3b6a941958e1e36984279d764",
            "max": 3,
            "min": 0,
            "orientation": "horizontal",
            "style": "IPY_MODEL_99b38ccc8c87470db51d1ee60ac74b16",
            "value": 3
          }
        },
        "b2ec93f6d98247fa8c6f5537ca696202": {
          "model_module": "@jupyter-widgets/controls",
          "model_name": "HTMLModel",
          "model_module_version": "1.5.0",
          "state": {
            "_dom_classes": [],
            "_model_module": "@jupyter-widgets/controls",
            "_model_module_version": "1.5.0",
            "_model_name": "HTMLModel",
            "_view_count": null,
            "_view_module": "@jupyter-widgets/controls",
            "_view_module_version": "1.5.0",
            "_view_name": "HTMLView",
            "description": "",
            "description_tooltip": null,
            "layout": "IPY_MODEL_8958ffd8994d45f89086ce1cc0056271",
            "placeholder": "​",
            "style": "IPY_MODEL_c9dd766895174793ae3273affb25e89b",
            "value": " 3/3 [00:18&lt;00:00,  6.27s/it]"
          }
        },
        "b82e233889384cc99a70c473bc2473a5": {
          "model_module": "@jupyter-widgets/base",
          "model_name": "LayoutModel",
          "model_module_version": "1.2.0",
          "state": {
            "_model_module": "@jupyter-widgets/base",
            "_model_module_version": "1.2.0",
            "_model_name": "LayoutModel",
            "_view_count": null,
            "_view_module": "@jupyter-widgets/base",
            "_view_module_version": "1.2.0",
            "_view_name": "LayoutView",
            "align_content": null,
            "align_items": null,
            "align_self": null,
            "border": null,
            "bottom": null,
            "display": null,
            "flex": null,
            "flex_flow": null,
            "grid_area": null,
            "grid_auto_columns": null,
            "grid_auto_flow": null,
            "grid_auto_rows": null,
            "grid_column": null,
            "grid_gap": null,
            "grid_row": null,
            "grid_template_areas": null,
            "grid_template_columns": null,
            "grid_template_rows": null,
            "height": null,
            "justify_content": null,
            "justify_items": null,
            "left": null,
            "margin": null,
            "max_height": null,
            "max_width": null,
            "min_height": null,
            "min_width": null,
            "object_fit": null,
            "object_position": null,
            "order": null,
            "overflow": null,
            "overflow_x": null,
            "overflow_y": null,
            "padding": null,
            "right": null,
            "top": null,
            "visibility": null,
            "width": null
          }
        },
        "87d2f2dd933b4b9b896cb79c4d118e65": {
          "model_module": "@jupyter-widgets/base",
          "model_name": "LayoutModel",
          "model_module_version": "1.2.0",
          "state": {
            "_model_module": "@jupyter-widgets/base",
            "_model_module_version": "1.2.0",
            "_model_name": "LayoutModel",
            "_view_count": null,
            "_view_module": "@jupyter-widgets/base",
            "_view_module_version": "1.2.0",
            "_view_name": "LayoutView",
            "align_content": null,
            "align_items": null,
            "align_self": null,
            "border": null,
            "bottom": null,
            "display": null,
            "flex": null,
            "flex_flow": null,
            "grid_area": null,
            "grid_auto_columns": null,
            "grid_auto_flow": null,
            "grid_auto_rows": null,
            "grid_column": null,
            "grid_gap": null,
            "grid_row": null,
            "grid_template_areas": null,
            "grid_template_columns": null,
            "grid_template_rows": null,
            "height": null,
            "justify_content": null,
            "justify_items": null,
            "left": null,
            "margin": null,
            "max_height": null,
            "max_width": null,
            "min_height": null,
            "min_width": null,
            "object_fit": null,
            "object_position": null,
            "order": null,
            "overflow": null,
            "overflow_x": null,
            "overflow_y": null,
            "padding": null,
            "right": null,
            "top": null,
            "visibility": null,
            "width": null
          }
        },
        "01a64e0fb9ee47339518c99ceb80b5a0": {
          "model_module": "@jupyter-widgets/controls",
          "model_name": "DescriptionStyleModel",
          "model_module_version": "1.5.0",
          "state": {
            "_model_module": "@jupyter-widgets/controls",
            "_model_module_version": "1.5.0",
            "_model_name": "DescriptionStyleModel",
            "_view_count": null,
            "_view_module": "@jupyter-widgets/base",
            "_view_module_version": "1.2.0",
            "_view_name": "StyleView",
            "description_width": ""
          }
        },
        "a41eefe3b6a941958e1e36984279d764": {
          "model_module": "@jupyter-widgets/base",
          "model_name": "LayoutModel",
          "model_module_version": "1.2.0",
          "state": {
            "_model_module": "@jupyter-widgets/base",
            "_model_module_version": "1.2.0",
            "_model_name": "LayoutModel",
            "_view_count": null,
            "_view_module": "@jupyter-widgets/base",
            "_view_module_version": "1.2.0",
            "_view_name": "LayoutView",
            "align_content": null,
            "align_items": null,
            "align_self": null,
            "border": null,
            "bottom": null,
            "display": null,
            "flex": null,
            "flex_flow": null,
            "grid_area": null,
            "grid_auto_columns": null,
            "grid_auto_flow": null,
            "grid_auto_rows": null,
            "grid_column": null,
            "grid_gap": null,
            "grid_row": null,
            "grid_template_areas": null,
            "grid_template_columns": null,
            "grid_template_rows": null,
            "height": null,
            "justify_content": null,
            "justify_items": null,
            "left": null,
            "margin": null,
            "max_height": null,
            "max_width": null,
            "min_height": null,
            "min_width": null,
            "object_fit": null,
            "object_position": null,
            "order": null,
            "overflow": null,
            "overflow_x": null,
            "overflow_y": null,
            "padding": null,
            "right": null,
            "top": null,
            "visibility": null,
            "width": null
          }
        },
        "99b38ccc8c87470db51d1ee60ac74b16": {
          "model_module": "@jupyter-widgets/controls",
          "model_name": "ProgressStyleModel",
          "model_module_version": "1.5.0",
          "state": {
            "_model_module": "@jupyter-widgets/controls",
            "_model_module_version": "1.5.0",
            "_model_name": "ProgressStyleModel",
            "_view_count": null,
            "_view_module": "@jupyter-widgets/base",
            "_view_module_version": "1.2.0",
            "_view_name": "StyleView",
            "bar_color": null,
            "description_width": ""
          }
        },
        "8958ffd8994d45f89086ce1cc0056271": {
          "model_module": "@jupyter-widgets/base",
          "model_name": "LayoutModel",
          "model_module_version": "1.2.0",
          "state": {
            "_model_module": "@jupyter-widgets/base",
            "_model_module_version": "1.2.0",
            "_model_name": "LayoutModel",
            "_view_count": null,
            "_view_module": "@jupyter-widgets/base",
            "_view_module_version": "1.2.0",
            "_view_name": "LayoutView",
            "align_content": null,
            "align_items": null,
            "align_self": null,
            "border": null,
            "bottom": null,
            "display": null,
            "flex": null,
            "flex_flow": null,
            "grid_area": null,
            "grid_auto_columns": null,
            "grid_auto_flow": null,
            "grid_auto_rows": null,
            "grid_column": null,
            "grid_gap": null,
            "grid_row": null,
            "grid_template_areas": null,
            "grid_template_columns": null,
            "grid_template_rows": null,
            "height": null,
            "justify_content": null,
            "justify_items": null,
            "left": null,
            "margin": null,
            "max_height": null,
            "max_width": null,
            "min_height": null,
            "min_width": null,
            "object_fit": null,
            "object_position": null,
            "order": null,
            "overflow": null,
            "overflow_x": null,
            "overflow_y": null,
            "padding": null,
            "right": null,
            "top": null,
            "visibility": null,
            "width": null
          }
        },
        "c9dd766895174793ae3273affb25e89b": {
          "model_module": "@jupyter-widgets/controls",
          "model_name": "DescriptionStyleModel",
          "model_module_version": "1.5.0",
          "state": {
            "_model_module": "@jupyter-widgets/controls",
            "_model_module_version": "1.5.0",
            "_model_name": "DescriptionStyleModel",
            "_view_count": null,
            "_view_module": "@jupyter-widgets/base",
            "_view_module_version": "1.2.0",
            "_view_name": "StyleView",
            "description_width": ""
          }
        }
      }
    }
  },
  "cells": [
    {
      "cell_type": "code",
      "source": [
        "# torchvision.dataset = get dataset and dataloading for computer vision\n",
        "# torchvision.models = using pre trained models for our own\n",
        "# torchvision transforms = functions for manipulating images\n",
        "# torch.utls.data.Dataset = base dataset class to create our own dataset"
      ],
      "metadata": {
        "id": "6sxzsV7q51Sg"
      },
      "execution_count": null,
      "outputs": []
    },
    {
      "cell_type": "code",
      "source": [
        "import torch\n",
        "from torch import nn\n",
        "import torchvision\n",
        "from torchvision import datasets, transforms \n",
        "from torchvision.transforms import ToTensor\n",
        "import matplotlib.pyplot as plt\n",
        "\n",
        "#check version\n",
        "print(torch.__version__)\n",
        "print(torchvision.__version__)"
      ],
      "metadata": {
        "colab": {
          "base_uri": "https://localhost:8080/"
        },
        "id": "Hb06i8jz62mb",
        "outputId": "17f7efb8-fef9-477b-abc5-8d28e3bd4789"
      },
      "execution_count": null,
      "outputs": [
        {
          "output_type": "stream",
          "name": "stdout",
          "text": [
            "1.12.0+cu113\n",
            "0.13.0+cu113\n"
          ]
        }
      ]
    },
    {
      "cell_type": "markdown",
      "source": [
        "## Getting the dataset"
      ],
      "metadata": {
        "id": "WtAL7Jyr75Tz"
      }
    },
    {
      "cell_type": "code",
      "source": [
        "# We are going to use FashionMNIST dataset for this learning\n",
        "# setup training data\n",
        "\n",
        "train_data = datasets.FashionMNIST(\n",
        "    root=\"data\", # where we want to save the dataset to\n",
        "    train=True, # we want the training dataset\n",
        "    download=True, # we want to download the dataset\n",
        "    transform=ToTensor(), # convert the images to tensors as need\n",
        "    target_transform=None # how doo we wantt to transform the labels\n",
        ")\n",
        "\n",
        "test_data = datasets.FashionMNIST(\n",
        "    root=\"data\", \n",
        "    train=False, \n",
        "    download=True, \n",
        "    transform=ToTensor()\n",
        ")"
      ],
      "metadata": {
        "id": "PHuMm-_n8J_6"
      },
      "execution_count": null,
      "outputs": []
    },
    {
      "cell_type": "code",
      "source": [
        "len(train_data), len(test_data)"
      ],
      "metadata": {
        "colab": {
          "base_uri": "https://localhost:8080/"
        },
        "id": "XZaqFbdCB8cM",
        "outputId": "c932fb3b-8619-4e1d-edc8-f6f031e53ee1"
      },
      "execution_count": null,
      "outputs": [
        {
          "output_type": "execute_result",
          "data": {
            "text/plain": [
              "(60000, 10000)"
            ]
          },
          "metadata": {},
          "execution_count": 225
        }
      ]
    },
    {
      "cell_type": "code",
      "source": [
        "# See the first training example\n",
        "# we find the images to tensor. \n",
        "# PIL image - Python Image Library\n",
        "# check to_transform documentation\n",
        "image, label = train_data[0]\n",
        "image, label"
      ],
      "metadata": {
        "colab": {
          "base_uri": "https://localhost:8080/"
        },
        "id": "iWDCzRUmCVdN",
        "outputId": "c333b059-5fd0-4728-89b7-f003e363f2d1"
      },
      "execution_count": null,
      "outputs": [
        {
          "output_type": "execute_result",
          "data": {
            "text/plain": [
              "(tensor([[[0.0000, 0.0000, 0.0000, 0.0000, 0.0000, 0.0000, 0.0000, 0.0000,\n",
              "           0.0000, 0.0000, 0.0000, 0.0000, 0.0000, 0.0000, 0.0000, 0.0000,\n",
              "           0.0000, 0.0000, 0.0000, 0.0000, 0.0000, 0.0000, 0.0000, 0.0000,\n",
              "           0.0000, 0.0000, 0.0000, 0.0000],\n",
              "          [0.0000, 0.0000, 0.0000, 0.0000, 0.0000, 0.0000, 0.0000, 0.0000,\n",
              "           0.0000, 0.0000, 0.0000, 0.0000, 0.0000, 0.0000, 0.0000, 0.0000,\n",
              "           0.0000, 0.0000, 0.0000, 0.0000, 0.0000, 0.0000, 0.0000, 0.0000,\n",
              "           0.0000, 0.0000, 0.0000, 0.0000],\n",
              "          [0.0000, 0.0000, 0.0000, 0.0000, 0.0000, 0.0000, 0.0000, 0.0000,\n",
              "           0.0000, 0.0000, 0.0000, 0.0000, 0.0000, 0.0000, 0.0000, 0.0000,\n",
              "           0.0000, 0.0000, 0.0000, 0.0000, 0.0000, 0.0000, 0.0000, 0.0000,\n",
              "           0.0000, 0.0000, 0.0000, 0.0000],\n",
              "          [0.0000, 0.0000, 0.0000, 0.0000, 0.0000, 0.0000, 0.0000, 0.0000,\n",
              "           0.0000, 0.0000, 0.0000, 0.0000, 0.0039, 0.0000, 0.0000, 0.0510,\n",
              "           0.2863, 0.0000, 0.0000, 0.0039, 0.0157, 0.0000, 0.0000, 0.0000,\n",
              "           0.0000, 0.0039, 0.0039, 0.0000],\n",
              "          [0.0000, 0.0000, 0.0000, 0.0000, 0.0000, 0.0000, 0.0000, 0.0000,\n",
              "           0.0000, 0.0000, 0.0000, 0.0000, 0.0118, 0.0000, 0.1412, 0.5333,\n",
              "           0.4980, 0.2431, 0.2118, 0.0000, 0.0000, 0.0000, 0.0039, 0.0118,\n",
              "           0.0157, 0.0000, 0.0000, 0.0118],\n",
              "          [0.0000, 0.0000, 0.0000, 0.0000, 0.0000, 0.0000, 0.0000, 0.0000,\n",
              "           0.0000, 0.0000, 0.0000, 0.0000, 0.0235, 0.0000, 0.4000, 0.8000,\n",
              "           0.6902, 0.5255, 0.5647, 0.4824, 0.0902, 0.0000, 0.0000, 0.0000,\n",
              "           0.0000, 0.0471, 0.0392, 0.0000],\n",
              "          [0.0000, 0.0000, 0.0000, 0.0000, 0.0000, 0.0000, 0.0000, 0.0000,\n",
              "           0.0000, 0.0000, 0.0000, 0.0000, 0.0000, 0.0000, 0.6078, 0.9255,\n",
              "           0.8118, 0.6980, 0.4196, 0.6118, 0.6314, 0.4275, 0.2510, 0.0902,\n",
              "           0.3020, 0.5098, 0.2824, 0.0588],\n",
              "          [0.0000, 0.0000, 0.0000, 0.0000, 0.0000, 0.0000, 0.0000, 0.0000,\n",
              "           0.0000, 0.0000, 0.0000, 0.0039, 0.0000, 0.2706, 0.8118, 0.8745,\n",
              "           0.8549, 0.8471, 0.8471, 0.6392, 0.4980, 0.4745, 0.4784, 0.5725,\n",
              "           0.5529, 0.3451, 0.6745, 0.2588],\n",
              "          [0.0000, 0.0000, 0.0000, 0.0000, 0.0000, 0.0000, 0.0000, 0.0000,\n",
              "           0.0000, 0.0039, 0.0039, 0.0039, 0.0000, 0.7843, 0.9098, 0.9098,\n",
              "           0.9137, 0.8980, 0.8745, 0.8745, 0.8431, 0.8353, 0.6431, 0.4980,\n",
              "           0.4824, 0.7686, 0.8980, 0.0000],\n",
              "          [0.0000, 0.0000, 0.0000, 0.0000, 0.0000, 0.0000, 0.0000, 0.0000,\n",
              "           0.0000, 0.0000, 0.0000, 0.0000, 0.0000, 0.7176, 0.8824, 0.8471,\n",
              "           0.8745, 0.8941, 0.9216, 0.8902, 0.8784, 0.8706, 0.8784, 0.8667,\n",
              "           0.8745, 0.9608, 0.6784, 0.0000],\n",
              "          [0.0000, 0.0000, 0.0000, 0.0000, 0.0000, 0.0000, 0.0000, 0.0000,\n",
              "           0.0000, 0.0000, 0.0000, 0.0000, 0.0000, 0.7569, 0.8941, 0.8549,\n",
              "           0.8353, 0.7765, 0.7059, 0.8314, 0.8235, 0.8275, 0.8353, 0.8745,\n",
              "           0.8627, 0.9529, 0.7922, 0.0000],\n",
              "          [0.0000, 0.0000, 0.0000, 0.0000, 0.0000, 0.0000, 0.0000, 0.0000,\n",
              "           0.0000, 0.0039, 0.0118, 0.0000, 0.0471, 0.8588, 0.8627, 0.8314,\n",
              "           0.8549, 0.7529, 0.6627, 0.8902, 0.8157, 0.8549, 0.8784, 0.8314,\n",
              "           0.8863, 0.7725, 0.8196, 0.2039],\n",
              "          [0.0000, 0.0000, 0.0000, 0.0000, 0.0000, 0.0000, 0.0000, 0.0000,\n",
              "           0.0000, 0.0000, 0.0235, 0.0000, 0.3882, 0.9569, 0.8706, 0.8627,\n",
              "           0.8549, 0.7961, 0.7765, 0.8667, 0.8431, 0.8353, 0.8706, 0.8627,\n",
              "           0.9608, 0.4667, 0.6549, 0.2196],\n",
              "          [0.0000, 0.0000, 0.0000, 0.0000, 0.0000, 0.0000, 0.0000, 0.0000,\n",
              "           0.0000, 0.0157, 0.0000, 0.0000, 0.2157, 0.9255, 0.8941, 0.9020,\n",
              "           0.8941, 0.9412, 0.9098, 0.8353, 0.8549, 0.8745, 0.9176, 0.8510,\n",
              "           0.8510, 0.8196, 0.3608, 0.0000],\n",
              "          [0.0000, 0.0000, 0.0039, 0.0157, 0.0235, 0.0275, 0.0078, 0.0000,\n",
              "           0.0000, 0.0000, 0.0000, 0.0000, 0.9294, 0.8863, 0.8510, 0.8745,\n",
              "           0.8706, 0.8588, 0.8706, 0.8667, 0.8471, 0.8745, 0.8980, 0.8431,\n",
              "           0.8549, 1.0000, 0.3020, 0.0000],\n",
              "          [0.0000, 0.0118, 0.0000, 0.0000, 0.0000, 0.0000, 0.0000, 0.0000,\n",
              "           0.0000, 0.2431, 0.5686, 0.8000, 0.8941, 0.8118, 0.8353, 0.8667,\n",
              "           0.8549, 0.8157, 0.8275, 0.8549, 0.8784, 0.8745, 0.8588, 0.8431,\n",
              "           0.8784, 0.9569, 0.6235, 0.0000],\n",
              "          [0.0000, 0.0000, 0.0000, 0.0000, 0.0706, 0.1725, 0.3216, 0.4196,\n",
              "           0.7412, 0.8941, 0.8627, 0.8706, 0.8510, 0.8863, 0.7843, 0.8039,\n",
              "           0.8275, 0.9020, 0.8784, 0.9176, 0.6902, 0.7373, 0.9804, 0.9725,\n",
              "           0.9137, 0.9333, 0.8431, 0.0000],\n",
              "          [0.0000, 0.2235, 0.7333, 0.8157, 0.8784, 0.8667, 0.8784, 0.8157,\n",
              "           0.8000, 0.8392, 0.8157, 0.8196, 0.7843, 0.6235, 0.9608, 0.7569,\n",
              "           0.8078, 0.8745, 1.0000, 1.0000, 0.8667, 0.9176, 0.8667, 0.8275,\n",
              "           0.8627, 0.9098, 0.9647, 0.0000],\n",
              "          [0.0118, 0.7922, 0.8941, 0.8784, 0.8667, 0.8275, 0.8275, 0.8392,\n",
              "           0.8039, 0.8039, 0.8039, 0.8627, 0.9412, 0.3137, 0.5882, 1.0000,\n",
              "           0.8980, 0.8667, 0.7373, 0.6039, 0.7490, 0.8235, 0.8000, 0.8196,\n",
              "           0.8706, 0.8941, 0.8824, 0.0000],\n",
              "          [0.3843, 0.9137, 0.7765, 0.8235, 0.8706, 0.8980, 0.8980, 0.9176,\n",
              "           0.9765, 0.8627, 0.7608, 0.8431, 0.8510, 0.9451, 0.2549, 0.2863,\n",
              "           0.4157, 0.4588, 0.6588, 0.8588, 0.8667, 0.8431, 0.8510, 0.8745,\n",
              "           0.8745, 0.8784, 0.8980, 0.1137],\n",
              "          [0.2941, 0.8000, 0.8314, 0.8000, 0.7569, 0.8039, 0.8275, 0.8824,\n",
              "           0.8471, 0.7255, 0.7725, 0.8078, 0.7765, 0.8353, 0.9412, 0.7647,\n",
              "           0.8902, 0.9608, 0.9373, 0.8745, 0.8549, 0.8314, 0.8196, 0.8706,\n",
              "           0.8627, 0.8667, 0.9020, 0.2627],\n",
              "          [0.1882, 0.7961, 0.7176, 0.7608, 0.8353, 0.7725, 0.7255, 0.7451,\n",
              "           0.7608, 0.7529, 0.7922, 0.8392, 0.8588, 0.8667, 0.8627, 0.9255,\n",
              "           0.8824, 0.8471, 0.7804, 0.8078, 0.7294, 0.7098, 0.6941, 0.6745,\n",
              "           0.7098, 0.8039, 0.8078, 0.4510],\n",
              "          [0.0000, 0.4784, 0.8588, 0.7569, 0.7020, 0.6706, 0.7176, 0.7686,\n",
              "           0.8000, 0.8235, 0.8353, 0.8118, 0.8275, 0.8235, 0.7843, 0.7686,\n",
              "           0.7608, 0.7490, 0.7647, 0.7490, 0.7765, 0.7529, 0.6902, 0.6118,\n",
              "           0.6549, 0.6941, 0.8235, 0.3608],\n",
              "          [0.0000, 0.0000, 0.2902, 0.7412, 0.8314, 0.7490, 0.6863, 0.6745,\n",
              "           0.6863, 0.7098, 0.7255, 0.7373, 0.7412, 0.7373, 0.7569, 0.7765,\n",
              "           0.8000, 0.8196, 0.8235, 0.8235, 0.8275, 0.7373, 0.7373, 0.7608,\n",
              "           0.7529, 0.8471, 0.6667, 0.0000],\n",
              "          [0.0078, 0.0000, 0.0000, 0.0000, 0.2588, 0.7843, 0.8706, 0.9294,\n",
              "           0.9373, 0.9490, 0.9647, 0.9529, 0.9569, 0.8667, 0.8627, 0.7569,\n",
              "           0.7490, 0.7020, 0.7137, 0.7137, 0.7098, 0.6902, 0.6510, 0.6588,\n",
              "           0.3882, 0.2275, 0.0000, 0.0000],\n",
              "          [0.0000, 0.0000, 0.0000, 0.0000, 0.0000, 0.0000, 0.0000, 0.1569,\n",
              "           0.2392, 0.1725, 0.2824, 0.1608, 0.1373, 0.0000, 0.0000, 0.0000,\n",
              "           0.0000, 0.0000, 0.0000, 0.0000, 0.0000, 0.0000, 0.0000, 0.0000,\n",
              "           0.0000, 0.0000, 0.0000, 0.0000],\n",
              "          [0.0000, 0.0000, 0.0000, 0.0000, 0.0000, 0.0000, 0.0000, 0.0000,\n",
              "           0.0000, 0.0000, 0.0000, 0.0000, 0.0000, 0.0000, 0.0000, 0.0000,\n",
              "           0.0000, 0.0000, 0.0000, 0.0000, 0.0000, 0.0000, 0.0000, 0.0000,\n",
              "           0.0000, 0.0000, 0.0000, 0.0000],\n",
              "          [0.0000, 0.0000, 0.0000, 0.0000, 0.0000, 0.0000, 0.0000, 0.0000,\n",
              "           0.0000, 0.0000, 0.0000, 0.0000, 0.0000, 0.0000, 0.0000, 0.0000,\n",
              "           0.0000, 0.0000, 0.0000, 0.0000, 0.0000, 0.0000, 0.0000, 0.0000,\n",
              "           0.0000, 0.0000, 0.0000, 0.0000]]]), 9)"
            ]
          },
          "metadata": {},
          "execution_count": 226
        }
      ]
    },
    {
      "cell_type": "code",
      "source": [
        "# check the target classes \n",
        "class_names = train_data.classes\n",
        "class_names"
      ],
      "metadata": {
        "colab": {
          "base_uri": "https://localhost:8080/"
        },
        "id": "GvyBEFl2C4sd",
        "outputId": "8f654e5f-a5c0-48e0-c5c3-117375bef01a"
      },
      "execution_count": null,
      "outputs": [
        {
          "output_type": "execute_result",
          "data": {
            "text/plain": [
              "['T-shirt/top',\n",
              " 'Trouser',\n",
              " 'Pullover',\n",
              " 'Dress',\n",
              " 'Coat',\n",
              " 'Sandal',\n",
              " 'Shirt',\n",
              " 'Sneaker',\n",
              " 'Bag',\n",
              " 'Ankle boot']"
            ]
          },
          "metadata": {},
          "execution_count": 227
        }
      ]
    },
    {
      "cell_type": "code",
      "source": [
        "# getting ids for the different classes\n",
        "\n",
        "class_to_idx = train_data.class_to_idx\n",
        "class_to_idx"
      ],
      "metadata": {
        "colab": {
          "base_uri": "https://localhost:8080/"
        },
        "id": "YQzC8f7WMDaX",
        "outputId": "1a554229-4acd-4d20-ef5d-88ff7f521adf"
      },
      "execution_count": null,
      "outputs": [
        {
          "output_type": "execute_result",
          "data": {
            "text/plain": [
              "{'Ankle boot': 9,\n",
              " 'Bag': 8,\n",
              " 'Coat': 4,\n",
              " 'Dress': 3,\n",
              " 'Pullover': 2,\n",
              " 'Sandal': 5,\n",
              " 'Shirt': 6,\n",
              " 'Sneaker': 7,\n",
              " 'T-shirt/top': 0,\n",
              " 'Trouser': 1}"
            ]
          },
          "metadata": {},
          "execution_count": 228
        }
      ]
    },
    {
      "cell_type": "code",
      "source": [
        "train_data.targets"
      ],
      "metadata": {
        "colab": {
          "base_uri": "https://localhost:8080/"
        },
        "id": "6adOPXkIMRkQ",
        "outputId": "391b763f-a0af-4090-84d6-f031f9e1490d"
      },
      "execution_count": null,
      "outputs": [
        {
          "output_type": "execute_result",
          "data": {
            "text/plain": [
              "tensor([9, 0, 0,  ..., 3, 0, 5])"
            ]
          },
          "metadata": {},
          "execution_count": 229
        }
      ]
    },
    {
      "cell_type": "code",
      "source": [
        "print(f\"Image shape: {image.shape} -> [color_channels, height, width]\")\n",
        "print(f\"Image label: {class_names[label]}\")\n",
        "\n",
        "# grayscale - so 1 color channel"
      ],
      "metadata": {
        "colab": {
          "base_uri": "https://localhost:8080/"
        },
        "id": "3IcWg5rvMoLW",
        "outputId": "0c7909cc-efad-4d3a-9ba5-613c6cedc8d8"
      },
      "execution_count": null,
      "outputs": [
        {
          "output_type": "stream",
          "name": "stdout",
          "text": [
            "Image shape: torch.Size([1, 28, 28]) -> [color_channels, height, width]\n",
            "Image label: Ankle boot\n"
          ]
        }
      ]
    },
    {
      "cell_type": "markdown",
      "source": [
        "## Visualize data as image"
      ],
      "metadata": {
        "id": "mchb-BsaNWpj"
      }
    },
    {
      "cell_type": "code",
      "source": [
        "plt.imshow(image.squeeze()) # matplotlib expects only the image W and H, so we get rid of the extra color dim\n",
        "# squeeze removes the unit dimension\n",
        "plt.title(label) # only 28 * 28 image so very pixelated looking"
      ],
      "metadata": {
        "colab": {
          "base_uri": "https://localhost:8080/",
          "height": 298
        },
        "id": "bRn0oIw2Nsp2",
        "outputId": "9b7ada14-1442-4ae6-f867-ec31eaf75b94"
      },
      "execution_count": null,
      "outputs": [
        {
          "output_type": "execute_result",
          "data": {
            "text/plain": [
              "Text(0.5, 1.0, '9')"
            ]
          },
          "metadata": {},
          "execution_count": 193
        },
        {
          "output_type": "display_data",
          "data": {
            "text/plain": [
              "<Figure size 432x288 with 1 Axes>"
            ],
            "image/png": "[encoded data removed]"
          },
          "metadata": {
            "needs_background": "light"
          }
        }
      ]
    },
    {
      "cell_type": "code",
      "source": [
        "plt.imshow(image.squeeze(), cmap='gray') # matplotlib expects only the image W and H, so we get rid of the extra color dim\n",
        "# squeeze removes the unit dimension\n",
        "plt.title(class_names[label]) # only 28 * 28 image so very pixelated looking"
      ],
      "metadata": {
        "colab": {
          "base_uri": "https://localhost:8080/",
          "height": 298
        },
        "id": "s5KCU4qtOgZn",
        "outputId": "288e6070-f508-449d-9143-0efc9bf300d4"
      },
      "execution_count": null,
      "outputs": [
        {
          "output_type": "execute_result",
          "data": {
            "text/plain": [
              "Text(0.5, 1.0, 'Ankle boot')"
            ]
          },
          "metadata": {},
          "execution_count": 194
        },
        {
          "output_type": "display_data",
          "data": {
            "text/plain": [
              "<Figure size 432x288 with 1 Axes>"
            ],
            "image/png": "[encoded data removed]"
          },
          "metadata": {
            "needs_background": "light"
          }
        }
      ]
    },
    {
      "cell_type": "code",
      "source": [
        "# Plotting 16 random images\n",
        "#torch.manual_seed(750)\n",
        "#fig=plt.figure(figsize=(9, 9))\n",
        "#rows, cols = 4, 4 # we are going to get 16 images\n",
        "#for i in range(1, rows*cols+1):\n",
        "  #print(i)\n",
        "#  random_idx = torch.randint(0, len(train_data), size=[1]).item()\n",
        "  #print(random_idx) # we get different images based on the  seed\n",
        "#  img, label=train_data[random_idx]\n",
        "#  fig.add_subplot(rows, cols, i)\n",
        "#  plt.imshow(img.squeeze(), cmap=\"gray\")\n",
        "#  plt.title(class_names[label])\n",
        "#  plt.axis(False)"
      ],
      "metadata": {
        "id": "MXPMvlDqOvcn"
      },
      "execution_count": null,
      "outputs": []
    },
    {
      "cell_type": "markdown",
      "source": [
        "## Prepare dataloader "
      ],
      "metadata": {
        "id": "1hYYv4YKRKpg"
      }
    },
    {
      "cell_type": "code",
      "source": [
        "train_data, test_data"
      ],
      "metadata": {
        "colab": {
          "base_uri": "https://localhost:8080/"
        },
        "id": "pdbHYpJmRQvA",
        "outputId": "941c5019-3bda-4d94-e0b9-6e3a46226172"
      },
      "execution_count": null,
      "outputs": [
        {
          "output_type": "execute_result",
          "data": {
            "text/plain": [
              "(Dataset FashionMNIST\n",
              "     Number of datapoints: 60000\n",
              "     Root location: data\n",
              "     Split: Train\n",
              "     StandardTransform\n",
              " Transform: ToTensor(), Dataset FashionMNIST\n",
              "     Number of datapoints: 10000\n",
              "     Root location: data\n",
              "     Split: Test\n",
              "     StandardTransform\n",
              " Transform: ToTensor())"
            ]
          },
          "metadata": {},
          "execution_count": 230
        }
      ]
    },
    {
      "cell_type": "markdown",
      "source": [
        "## Dataloader to turn the dataset in python iterable\n",
        "\n",
        "### Turn data into batches or mini batches\n",
        "\n",
        "#### Lets us take for now mini batches of 32 each\n",
        "#### the optimizer will update per batch, So the training gets efficient. The batches will be shuffled.\n",
        "\n"
      ],
      "metadata": {
        "id": "kOsp9o6DRWK6"
      }
    },
    {
      "cell_type": "code",
      "source": [
        "from torch.utils.data import DataLoader # also goes for text and any other datatypes\n",
        "\n",
        "# set the hyperparam batch size\n",
        "BATCH_SIZE=32\n",
        "\n",
        "# Turn the dataset into iterable\n",
        "train_dataloader=DataLoader(train_data, batch_size=BATCH_SIZE, shuffle=True)\n",
        "\n",
        "test_dataloader=DataLoader(test_data, batch_size=BATCH_SIZE, shuffle=False)"
      ],
      "metadata": {
        "id": "xnlG_CKjRacg"
      },
      "execution_count": null,
      "outputs": []
    },
    {
      "cell_type": "code",
      "source": [
        "train_dataloader, test_dataloader"
      ],
      "metadata": {
        "colab": {
          "base_uri": "https://localhost:8080/"
        },
        "id": "IPprVjd2TZzX",
        "outputId": "06faf9a5-9eb6-45ed-d39c-6722a5ae5aaf"
      },
      "execution_count": null,
      "outputs": [
        {
          "output_type": "execute_result",
          "data": {
            "text/plain": [
              "(<torch.utils.data.dataloader.DataLoader at 0x7f35b95d6cd0>,\n",
              " <torch.utils.data.dataloader.DataLoader at 0x7f35b94aa310>)"
            ]
          },
          "metadata": {},
          "execution_count": 232
        }
      ]
    },
    {
      "cell_type": "code",
      "source": [
        "print(f\"Data Loaders: \", train_dataloader, test_dataloader)\n",
        "print(f\"Train Dataloader:  {len(train_dataloader)} batches of  {BATCH_SIZE}\")\n",
        "print(f\"Test Dataloader: {len(test_dataloader)} batches of {BATCH_SIZE}\")"
      ],
      "metadata": {
        "colab": {
          "base_uri": "https://localhost:8080/"
        },
        "id": "9C4Z7or7Tfrg",
        "outputId": "b68d1a39-4a57-4a2b-b44c-c1763ce4030a"
      },
      "execution_count": null,
      "outputs": [
        {
          "output_type": "stream",
          "name": "stdout",
          "text": [
            "Data Loaders:  <torch.utils.data.dataloader.DataLoader object at 0x7f35b95d6cd0> <torch.utils.data.dataloader.DataLoader object at 0x7f35b94aa310>\n",
            "Train Dataloader:  1875 batches of  32\n",
            "Test Dataloader: 313 batches of 32\n"
          ]
        }
      ]
    },
    {
      "cell_type": "code",
      "source": [
        "# check inside the training dataloader\n",
        "train_features_batch, train_labels_batch = next(iter(train_dataloader))\n",
        "\n",
        "# train_features_batch will have the training images\n",
        "# train labels batch will have the image labels meaning what the features together indicate\n",
        "# iter will get the nextt batch in the iterator\n",
        "\n",
        "train_features_batch.shape, train_labels_batch.shape\n",
        "# torc.Size(batch_size, color_channel, height, width), torch.Size(BATCH_SIZE)"
      ],
      "metadata": {
        "colab": {
          "base_uri": "https://localhost:8080/"
        },
        "id": "o5j9vJ0JVCCH",
        "outputId": "18e36ade-9951-45cf-eb14-81edc8064110"
      },
      "execution_count": null,
      "outputs": [
        {
          "output_type": "execute_result",
          "data": {
            "text/plain": [
              "(torch.Size([32, 1, 28, 28]), torch.Size([32]))"
            ]
          },
          "metadata": {},
          "execution_count": 234
        }
      ]
    },
    {
      "cell_type": "code",
      "source": [
        "# Show sample\n",
        "#torch.manual_seed(999)\n",
        "random_idx= torch.randint(0, len(train_features_batch), size=[1]).item() # creating a random image from the train dataset\n",
        "img, label= train_features_batch[random_idx], train_labels_batch[random_idx] # getting the random image from the datasett and it particular label\n",
        "plt.imshow(img.squeeze(), cmap=\"gray\")\n",
        "plt.title(class_names[label])\n",
        "plt.axis=False\n",
        "print(f\"Image size: {img.shape}\")\n",
        "print(f\"Label: {label}, label_size: {label.shape}\")\n"
      ],
      "metadata": {
        "colab": {
          "base_uri": "https://localhost:8080/",
          "height": 316
        },
        "id": "S9VHOyH1Ux_k",
        "outputId": "c341bf79-6d86-4819-edea-b84dd9106eea"
      },
      "execution_count": null,
      "outputs": [
        {
          "output_type": "stream",
          "name": "stdout",
          "text": [
            "Image size: torch.Size([1, 28, 28])\n",
            "Label: 5, label_size: torch.Size([])\n"
          ]
        },
        {
          "output_type": "display_data",
          "data": {
            "text/plain": [
              "<Figure size 432x288 with 1 Axes>"
            ],
            "image/png": "[encoded data removed]"
          },
          "metadata": {
            "needs_background": "light"
          }
        }
      ]
    },
    {
      "cell_type": "markdown",
      "source": [
        "## Build a baseline model\n",
        "\n",
        "Baseline model can be inproved later with experimentation"
      ],
      "metadata": {
        "id": "b4EYuTtctmnN"
      }
    },
    {
      "cell_type": "code",
      "source": [
        "## Creating a FC flatten layer \n",
        "\n",
        "flatten_model = nn.Flatten()\n",
        "\n",
        "# taking one feature into a different variable\n",
        "x=train_features_batch[0]\n",
        "\n",
        "# flattening the input\n",
        "output=flatten_model(x)\n",
        "\n",
        "# printing the shape of the first tensor [0] before and after flatteing\n",
        "print(f\"Shape before flattening: {x.shape}, -> [color_channel, height, width]\")\n",
        "print(f\"Shape after flatteing: {output.shape}, -> [color_channel, height*width]\")"
      ],
      "metadata": {
        "colab": {
          "base_uri": "https://localhost:8080/"
        },
        "id": "_vc6yxiCuvbB",
        "outputId": "d8e5f12a-53e5-424f-9d85-d8f9d87d7e9f"
      },
      "execution_count": null,
      "outputs": [
        {
          "output_type": "stream",
          "name": "stdout",
          "text": [
            "Shape before flattening: torch.Size([1, 28, 28]), -> [color_channel, height, width]\n",
            "Shape after flatteing: torch.Size([1, 784]), -> [color_channel, height*width]\n"
          ]
        }
      ]
    },
    {
      "cell_type": "code",
      "source": [
        "output # condense information into a single vector"
      ],
      "metadata": {
        "colab": {
          "base_uri": "https://localhost:8080/"
        },
        "id": "egOgOnVnwjD7",
        "outputId": "a01ec6dd-0266-488e-e336-a7ab60d884b4"
      },
      "execution_count": null,
      "outputs": [
        {
          "output_type": "execute_result",
          "data": {
            "text/plain": [
              "tensor([[0.0000, 0.0000, 0.0000, 0.0000, 0.0000, 0.0000, 0.0000, 0.0078, 0.0078,\n",
              "         0.0000, 0.0000, 0.0000, 0.7294, 0.8471, 0.8431, 0.8627, 0.9686, 0.0000,\n",
              "         0.0000, 0.0000, 0.0078, 0.0078, 0.0000, 0.0000, 0.0000, 0.0000, 0.0000,\n",
              "         0.0000, 0.0000, 0.0000, 0.0000, 0.0000, 0.0000, 0.0000, 0.0078, 0.0000,\n",
              "         0.0000, 0.0000, 0.0000, 0.3922, 0.9020, 0.9176, 0.9490, 0.9333, 0.9255,\n",
              "         0.6627, 0.0000, 0.0000, 0.0000, 0.0000, 0.0157, 0.0000, 0.0000, 0.0000,\n",
              "         0.0000, 0.0000, 0.0000, 0.0000, 0.0000, 0.0000, 0.0000, 0.0039, 0.0000,\n",
              "         0.0000, 0.3294, 0.7216, 0.9647, 0.9216, 0.8510, 0.8667, 0.8667, 0.8588,\n",
              "         0.8431, 0.9059, 1.0000, 0.7294, 0.3686, 0.0000, 0.0000, 0.0039, 0.0000,\n",
              "         0.0000, 0.0000, 0.0000, 0.0000, 0.0000, 0.0000, 0.0000, 0.0157, 0.0000,\n",
              "         0.0588, 0.7725, 0.9137, 0.8824, 0.8471, 0.8275, 0.8510, 0.9020, 0.8745,\n",
              "         0.8706, 0.8745, 0.8353, 0.8392, 0.8863, 0.9059, 0.8157, 0.2039, 0.0000,\n",
              "         0.0157, 0.0000, 0.0000, 0.0000, 0.0000, 0.0000, 0.0000, 0.0000, 0.0000,\n",
              "         0.0000, 0.6863, 0.8980, 0.8039, 0.8235, 0.8275, 0.8353, 0.8157, 0.8353,\n",
              "         0.8353, 0.8314, 0.8157, 0.8353, 0.8314, 0.8275, 0.8118, 0.8745, 0.7961,\n",
              "         0.0000, 0.0000, 0.0000, 0.0000, 0.0000, 0.0000, 0.0000, 0.0000, 0.0000,\n",
              "         0.0000, 0.0941, 0.9020, 0.8196, 0.8235, 0.8392, 0.8314, 0.8314, 0.8275,\n",
              "         0.8431, 0.8314, 0.8235, 0.8275, 0.8353, 0.8392, 0.8353, 0.8353, 0.8157,\n",
              "         0.9176, 0.2941, 0.0000, 0.0000, 0.0000, 0.0000, 0.0000, 0.0000, 0.0000,\n",
              "         0.0000, 0.0000, 0.2941, 0.9333, 0.8314, 0.8275, 0.8275, 0.8235, 0.8275,\n",
              "         0.8235, 0.8627, 0.8392, 0.8314, 0.8275, 0.8275, 0.8314, 0.8353, 0.8314,\n",
              "         0.8275, 0.9373, 0.5373, 0.0000, 0.0000, 0.0000, 0.0000, 0.0000, 0.0000,\n",
              "         0.0000, 0.0000, 0.0000, 0.5373, 0.9412, 0.8667, 0.8392, 0.8314, 0.8235,\n",
              "         0.8275, 0.8196, 0.8510, 0.8078, 0.8314, 0.8275, 0.8314, 0.8431, 0.8471,\n",
              "         0.8431, 0.8667, 0.9333, 0.6863, 0.0000, 0.0000, 0.0000, 0.0000, 0.0000,\n",
              "         0.0000, 0.0000, 0.0000, 0.0000, 0.7098, 0.9255, 0.8941, 0.8471, 0.8275,\n",
              "         0.8392, 0.8353, 0.8314, 0.8471, 0.8196, 0.8392, 0.8314, 0.8275, 0.8431,\n",
              "         0.8510, 0.8392, 0.8941, 0.9176, 0.8510, 0.0000, 0.0000, 0.0000, 0.0000,\n",
              "         0.0000, 0.0000, 0.0000, 0.0000, 0.0000, 0.8588, 0.9020, 0.9216, 0.8549,\n",
              "         0.8392, 0.8431, 0.8353, 0.8431, 0.8588, 0.8392, 0.8510, 0.8431, 0.8431,\n",
              "         0.8627, 0.8353, 0.8510, 0.9294, 0.8902, 0.8196, 0.0000, 0.0000, 0.0000,\n",
              "         0.0000, 0.0000, 0.0000, 0.0000, 0.0000, 0.0000, 0.9686, 0.8902, 0.9255,\n",
              "         0.9098, 0.8078, 0.8431, 0.8392, 0.8392, 0.8627, 0.8353, 0.8392, 0.8510,\n",
              "         0.8510, 0.8588, 0.8078, 0.9059, 0.9373, 0.8863, 0.8667, 0.0000, 0.0000,\n",
              "         0.0000, 0.0000, 0.0000, 0.0000, 0.0000, 0.0000, 0.0000, 0.8706, 0.8824,\n",
              "         0.9176, 0.9765, 0.8392, 0.8392, 0.8431, 0.8392, 0.8745, 0.8627, 0.8510,\n",
              "         0.8549, 0.8667, 0.8588, 0.8314, 0.9647, 0.9255, 0.8745, 0.8941, 0.0510,\n",
              "         0.0000, 0.0000, 0.0000, 0.0000, 0.0000, 0.0000, 0.0000, 0.0667, 0.9020,\n",
              "         0.8706, 0.9608, 0.8196, 0.8039, 0.8549, 0.8549, 0.8549, 0.8627, 0.8314,\n",
              "         0.8471, 0.8510, 0.8471, 0.8941, 0.8118, 0.8039, 0.9647, 0.8667, 0.9216,\n",
              "         0.2118, 0.0000, 0.0000, 0.0000, 0.0000, 0.0000, 0.0000, 0.0000, 0.2118,\n",
              "         0.9176, 0.8784, 0.9412, 0.6549, 0.8235, 0.8549, 0.8588, 0.8471, 0.8667,\n",
              "         0.8392, 0.8510, 0.8510, 0.8275, 0.8627, 0.8471, 0.6000, 1.0000, 0.8745,\n",
              "         0.9255, 0.3059, 0.0000, 0.0000, 0.0000, 0.0000, 0.0000, 0.0000, 0.0000,\n",
              "         0.3333, 0.9176, 0.8941, 0.9961, 0.5216, 0.8549, 0.8471, 0.8706, 0.8431,\n",
              "         0.8745, 0.8510, 0.8588, 0.8510, 0.8471, 0.8275, 0.8902, 0.5490, 1.0000,\n",
              "         0.8941, 0.9216, 0.3882, 0.0000, 0.0000, 0.0000, 0.0000, 0.0000, 0.0000,\n",
              "         0.0000, 0.4235, 0.9020, 0.9137, 0.9765, 0.4118, 0.8824, 0.8588, 0.8627,\n",
              "         0.8353, 0.8784, 0.8431, 0.8549, 0.8510, 0.8627, 0.8275, 0.9020, 0.4196,\n",
              "         0.9490, 0.9137, 0.9059, 0.4902, 0.0000, 0.0000, 0.0000, 0.0000, 0.0000,\n",
              "         0.0000, 0.0000, 0.5647, 0.8824, 0.9333, 0.9412, 0.2784, 0.9451, 0.8510,\n",
              "         0.8431, 0.8353, 0.8706, 0.8196, 0.8627, 0.8588, 0.8510, 0.8314, 0.9647,\n",
              "         0.2863, 0.9098, 0.9373, 0.8824, 0.6196, 0.0000, 0.0000, 0.0000, 0.0000,\n",
              "         0.0000, 0.0000, 0.0000, 0.6980, 0.8549, 0.9373, 0.8980, 0.2431, 0.9765,\n",
              "         0.8471, 0.8353, 0.8549, 0.8745, 0.8353, 0.8549, 0.8627, 0.8471, 0.8275,\n",
              "         1.0000, 0.2471, 0.8745, 0.9490, 0.8549, 0.6980, 0.0000, 0.0000, 0.0000,\n",
              "         0.0000, 0.0000, 0.0000, 0.0000, 0.7529, 0.8431, 0.9529, 0.8471, 0.2078,\n",
              "         1.0000, 0.8471, 0.8314, 0.8706, 0.8824, 0.8549, 0.8471, 0.8667, 0.8549,\n",
              "         0.8275, 1.0000, 0.2078, 0.8275, 0.9647, 0.8353, 0.7647, 0.0000, 0.0000,\n",
              "         0.0000, 0.0000, 0.0000, 0.0000, 0.0000, 0.7608, 0.8314, 0.9569, 0.7882,\n",
              "         0.1569, 1.0000, 0.8275, 0.8235, 0.8706, 0.8667, 0.8275, 0.8392, 0.8549,\n",
              "         0.8510, 0.8314, 1.0000, 0.2118, 0.7725, 0.9608, 0.8314, 0.7647, 0.0000,\n",
              "         0.0000, 0.0000, 0.0000, 0.0000, 0.0000, 0.0000, 0.7373, 0.8314, 0.9608,\n",
              "         0.5961, 0.1529, 1.0000, 0.8314, 0.8314, 0.8667, 0.8784, 0.8392, 0.8431,\n",
              "         0.8471, 0.8627, 0.8471, 1.0000, 0.2863, 0.6000, 0.9569, 0.8353, 0.7255,\n",
              "         0.0000, 0.0000, 0.0000, 0.0000, 0.0000, 0.0000, 0.0000, 0.7098, 0.8353,\n",
              "         0.9765, 0.3725, 0.3529, 1.0000, 0.8275, 0.8392, 0.8627, 0.8863, 0.8549,\n",
              "         0.8549, 0.8549, 0.8627, 0.8392, 1.0000, 0.3373, 0.4157, 0.9686, 0.8314,\n",
              "         0.6941, 0.0000, 0.0000, 0.0000, 0.0000, 0.0000, 0.0000, 0.0000, 0.6627,\n",
              "         0.8431, 0.9804, 0.1804, 0.4549, 1.0000, 0.8235, 0.8353, 0.8549, 0.8784,\n",
              "         0.8353, 0.8471, 0.8471, 0.8588, 0.8353, 1.0000, 0.3961, 0.2353, 0.9882,\n",
              "         0.8471, 0.6196, 0.0000, 0.0000, 0.0000, 0.0000, 0.0000, 0.0000, 0.0000,\n",
              "         0.5843, 0.8588, 0.9490, 0.0000, 0.5255, 0.8980, 0.8235, 0.8431, 0.8549,\n",
              "         0.8745, 0.8353, 0.8510, 0.8510, 0.8510, 0.8353, 0.9020, 0.4706, 0.0549,\n",
              "         0.9569, 0.8588, 0.5451, 0.0000, 0.0000, 0.0000, 0.0000, 0.0000, 0.0000,\n",
              "         0.0000, 0.4510, 0.8902, 0.8941, 0.0000, 0.6392, 0.9333, 0.8157, 0.8353,\n",
              "         0.8353, 0.8392, 0.8196, 0.8275, 0.8275, 0.8353, 0.8235, 0.9412, 0.5490,\n",
              "         0.0000, 0.9216, 0.8745, 0.4000, 0.0000, 0.0000, 0.0000, 0.0000, 0.0000,\n",
              "         0.0000, 0.0000, 0.3882, 0.8863, 0.8431, 0.0000, 0.1765, 0.9333, 0.8863,\n",
              "         0.9137, 0.9176, 0.9176, 0.8980, 0.9059, 0.9098, 0.9176, 0.8824, 0.9373,\n",
              "         0.0314, 0.0000, 0.8706, 0.8706, 0.3294, 0.0000, 0.0000, 0.0000, 0.0000,\n",
              "         0.0000, 0.0000, 0.0000, 0.6314, 0.9373, 0.8588, 0.0000, 0.0000, 0.0000,\n",
              "         0.1059, 0.2627, 0.3451, 0.4157, 0.5137, 0.4196, 0.3608, 0.2471, 0.0902,\n",
              "         0.0000, 0.0000, 0.0000, 0.9059, 0.9333, 0.5098, 0.0000, 0.0000, 0.0000,\n",
              "         0.0000, 0.0000, 0.0000, 0.0000, 0.1176, 0.3608, 0.3333, 0.0000, 0.0000,\n",
              "         0.0000, 0.0000, 0.0000, 0.0000, 0.0000, 0.0000, 0.0000, 0.0000, 0.0000,\n",
              "         0.0000, 0.0000, 0.0000, 0.0000, 0.4510, 0.4784, 0.1333, 0.0000, 0.0000,\n",
              "         0.0000]])"
            ]
          },
          "metadata": {},
          "execution_count": 203
        }
      ]
    },
    {
      "cell_type": "code",
      "source": [
        "from torch import nn\n",
        "class FashionMNISTModelV0(nn.Module):\n",
        "  def __init__(self, \n",
        "               input_shape: int, \n",
        "               hidden_units: int, \n",
        "               output_shape: int):\n",
        "    super().__init__()\n",
        "    self.layer_stack=nn.Sequential(\n",
        "        nn.Flatten(), \n",
        "        nn.Linear(in_features=input_shape, \n",
        "                  out_features=hidden_units),\n",
        "        nn.Linear(in_features=hidden_units,\n",
        "                  out_features=output_shape)\n",
        "    )\n",
        "\n",
        "  def forward(self, x):\n",
        "    return self.layer_stack(x)"
      ],
      "metadata": {
        "id": "93RHRgnQybf-"
      },
      "execution_count": null,
      "outputs": []
    },
    {
      "cell_type": "code",
      "source": [
        "torch.manual_seed(42)\n",
        "\n",
        "## setup model with input params\n",
        "model_0=FashionMNISTModelV0(\n",
        "    input_shape=784,\n",
        "    hidden_units=10, ## how many hidden units for the hidden layer\n",
        "    output_shape=len(class_names) # one for every class\n",
        ").to(\"cpu\")\n",
        "\n",
        "model_0.to(\"cpu\") ## very important line - to keep the model on cpu top run"
      ],
      "metadata": {
        "colab": {
          "base_uri": "https://localhost:8080/"
        },
        "id": "6q6f2bQzzhRf",
        "outputId": "10ebc7d3-0da0-4772-bae8-b0896d0adbd3"
      },
      "execution_count": null,
      "outputs": [
        {
          "output_type": "execute_result",
          "data": {
            "text/plain": [
              "FashionMNISTModelV0(\n",
              "  (layer_stack): Sequential(\n",
              "    (0): Flatten(start_dim=1, end_dim=-1)\n",
              "    (1): Linear(in_features=784, out_features=10, bias=True)\n",
              "    (2): Linear(in_features=10, out_features=10, bias=True)\n",
              "  )\n",
              ")"
            ]
          },
          "metadata": {},
          "execution_count": 240
        }
      ]
    },
    {
      "cell_type": "code",
      "source": [
        "dummy_x=torch.rand([1, 1, 28, 28])\n",
        "model_0(dummy_x)\n",
        "\n",
        "# also check what input shape certain layers expect"
      ],
      "metadata": {
        "colab": {
          "base_uri": "https://localhost:8080/"
        },
        "id": "DmoleLdD0jFH",
        "outputId": "76b3932f-988d-468a-a832-6bb3ed740d51"
      },
      "execution_count": null,
      "outputs": [
        {
          "output_type": "execute_result",
          "data": {
            "text/plain": [
              "tensor([[-0.0315,  0.3171,  0.0531, -0.2525,  0.5959,  0.2112,  0.3233,  0.2694,\n",
              "         -0.1004,  0.0157]], grad_fn=<AddmmBackward0>)"
            ]
          },
          "metadata": {},
          "execution_count": 241
        }
      ]
    },
    {
      "cell_type": "code",
      "source": [
        "model_0.state_dict()"
      ],
      "metadata": {
        "colab": {
          "base_uri": "https://localhost:8080/"
        },
        "id": "NZeJhmqlxxG1",
        "outputId": "90740c89-464d-450c-86d3-7f33e3b6cc55"
      },
      "execution_count": null,
      "outputs": [
        {
          "output_type": "execute_result",
          "data": {
            "text/plain": [
              "OrderedDict([('layer_stack.1.weight',\n",
              "              tensor([[ 0.0273,  0.0296, -0.0084,  ..., -0.0142,  0.0093,  0.0135],\n",
              "                      [-0.0188, -0.0354,  0.0187,  ..., -0.0106, -0.0001,  0.0115],\n",
              "                      [-0.0008,  0.0017,  0.0045,  ..., -0.0127, -0.0188,  0.0059],\n",
              "                      ...,\n",
              "                      [-0.0116,  0.0273, -0.0344,  ...,  0.0176,  0.0283, -0.0011],\n",
              "                      [-0.0230,  0.0257,  0.0291,  ..., -0.0187, -0.0087,  0.0001],\n",
              "                      [ 0.0176, -0.0147,  0.0053,  ..., -0.0336, -0.0221,  0.0205]])),\n",
              "             ('layer_stack.1.bias',\n",
              "              tensor([-0.0093,  0.0283, -0.0033,  0.0255,  0.0017,  0.0037, -0.0302, -0.0123,\n",
              "                       0.0018,  0.0163])),\n",
              "             ('layer_stack.2.weight',\n",
              "              tensor([[ 0.0614, -0.0687,  0.0021,  0.2718,  0.2109,  0.1079, -0.2279, -0.1063,\n",
              "                        0.2019,  0.2847],\n",
              "                      [-0.1495,  0.1344, -0.0740,  0.2006, -0.0475, -0.2514, -0.3130, -0.0118,\n",
              "                        0.0932, -0.1864],\n",
              "                      [ 0.2488,  0.1500,  0.1907,  0.1457, -0.3050, -0.0580,  0.1643,  0.1565,\n",
              "                       -0.2877, -0.1792],\n",
              "                      [ 0.2305, -0.2618,  0.2397, -0.0610,  0.0232,  0.1542,  0.0851, -0.2027,\n",
              "                        0.1030, -0.2715],\n",
              "                      [-0.1596, -0.0555, -0.0633,  0.2302, -0.1726,  0.2654,  0.1473,  0.1029,\n",
              "                        0.2252, -0.2160],\n",
              "                      [-0.2725,  0.0118,  0.1559,  0.1596,  0.0132,  0.3024,  0.1124,  0.1366,\n",
              "                       -0.1533,  0.0965],\n",
              "                      [-0.1184, -0.2555, -0.2057, -0.1909, -0.0477, -0.1324,  0.2905,  0.1307,\n",
              "                       -0.2629,  0.0133],\n",
              "                      [ 0.2727, -0.0127,  0.0513,  0.0863, -0.1043, -0.2047, -0.1185, -0.0825,\n",
              "                        0.2488, -0.2571],\n",
              "                      [ 0.0425, -0.1209, -0.0336, -0.0281, -0.1227,  0.0730,  0.0747, -0.1816,\n",
              "                        0.1943,  0.2853],\n",
              "                      [-0.1310,  0.0645, -0.1171,  0.2168, -0.0245, -0.2820,  0.0736,  0.2621,\n",
              "                        0.0012, -0.0810]])),\n",
              "             ('layer_stack.2.bias',\n",
              "              tensor([-0.0087,  0.1791,  0.2712, -0.0791,  0.1685,  0.1762,  0.2825,  0.2266,\n",
              "                      -0.2612, -0.2613]))])"
            ]
          },
          "metadata": {},
          "execution_count": 207
        }
      ]
    },
    {
      "cell_type": "markdown",
      "source": [
        "## Set up loss optimizer and evaluation matrix\n",
        "\n",
        "### Loss function here - cross entropy loss\n",
        "### Optimizer - stochastic gradient descent"
      ],
      "metadata": {
        "id": "HRym6gbTyFs7"
      }
    },
    {
      "cell_type": "code",
      "source": [
        "# Calculate accuracy (a classification metric)\n",
        "#   \"\"\"Calculates accuracy between truth labels and predictions.\n",
        "#    Args:\n",
        "#        y_true (torch.Tensor): Truth labels for predictions.\n",
        "#        y_pred (torch.Tensor): Predictions to be compared to predictions.\n",
        "#    Returns:\n",
        "#        [torch.float]: Accuracy value between y_true and y_pred, e.g. 78.45\n",
        "#    \"\"\"\n",
        "#    correct = torch.eq(y_true, y_pred).sum().item()\n",
        "#    acc = (correct / len(y_pred)) * 100\n",
        "#    return acc"
      ],
      "metadata": {
        "id": "SDxFpUkTyVwD"
      },
      "execution_count": null,
      "outputs": []
    },
    {
      "cell_type": "code",
      "source": [
        "# to get the github help function \n",
        "import requests\n",
        "from pathlib import Path\n",
        "\n",
        "# Download the helper function from learn PyTorch repo\n",
        "if Path(\"helper_functions.py\").is_file():\n",
        "  print(\"helper_functions already exits, skipping download... ... ..\")\n",
        "else:\n",
        "  print(\"Downloading helper_functions.py from PyTorch repo ...\")\n",
        "  request = requests.get(\"https://raw.githubusercontent.com/mrdbourke/pytorch-deep-learning/main/helper_functions.py\")\n",
        "  with open(\"helper_functions.py\", \"wb\") as f:\n",
        "    f.write(request.content)"
      ],
      "metadata": {
        "colab": {
          "base_uri": "https://localhost:8080/"
        },
        "id": "LDGU4nm1zpT2",
        "outputId": "d2bc05f5-3761-40c4-fa6a-0a199d8d8661"
      },
      "execution_count": null,
      "outputs": [
        {
          "output_type": "stream",
          "name": "stdout",
          "text": [
            "helper_functions already exits, skipping download... ... ..\n"
          ]
        }
      ]
    },
    {
      "cell_type": "markdown",
      "source": [
        "## Import accuracy metrics"
      ],
      "metadata": {
        "id": "G4ED5B6f0uD1"
      }
    },
    {
      "cell_type": "code",
      "source": [
        "# import accuracy metrics\n",
        "from helper_functions import accuracy_fn\n",
        "\n",
        "# setup loss function and optimzer\n",
        "loss_fn = nn.CrossEntropyLoss()\n",
        "optimizer = torch.optim.SGD(params=model_0.parameters(), \n",
        "                            lr=0.1)"
      ],
      "metadata": {
        "id": "31Udd4900way"
      },
      "execution_count": null,
      "outputs": []
    },
    {
      "cell_type": "markdown",
      "source": [
        "## Creating a function to time our experiment"
      ],
      "metadata": {
        "id": "eck779b217VW"
      }
    },
    {
      "cell_type": "code",
      "source": [
        "from timeit import default_timer as timer\n",
        "\n",
        "def print_train_time(start: float, end: float, device: torch.device = None):\n",
        "  \"\"\"Time required to train the network\"\"\"\n",
        "  total_time = end - start\n",
        "  print(f\"training time taken on {device}: {total_time:.3f} seconds\")\n",
        "  return total_time"
      ],
      "metadata": {
        "id": "RjCq41Ty2E1W"
      },
      "execution_count": null,
      "outputs": []
    },
    {
      "cell_type": "code",
      "source": [
        "# let us check the timer function\n",
        "\n",
        "start_time = timer()\n",
        "# we will put some modelling function code here\n",
        "end_time = timer()\n",
        "print_train_time(start_time, end_time, device='cpu')"
      ],
      "metadata": {
        "colab": {
          "base_uri": "https://localhost:8080/"
        },
        "id": "VTFAxhbW3ZZt",
        "outputId": "74e1d584-e4f9-4379-aa92-6c3b4c575cc8"
      },
      "execution_count": null,
      "outputs": [
        {
          "output_type": "stream",
          "name": "stdout",
          "text": [
            "training time taken on cpu: 0.000 seconds\n"
          ]
        },
        {
          "output_type": "execute_result",
          "data": {
            "text/plain": [
              "4.102200000488665e-05"
            ]
          },
          "metadata": {},
          "execution_count": 212
        }
      ]
    },
    {
      "cell_type": "markdown",
      "source": [
        "## Creating a training loop\n",
        "\n",
        "### 1. Loop through epochs.\n",
        "### 2. Loop through training batches, perform training steps, calculate the train loss *per batch*\n",
        "\n",
        "### 3. Loop through testing batches, perform testing steps, calculate the test loss per batch\n",
        "### 4. Time it all"
      ],
      "metadata": {
        "id": "O3uoG1br3ww1"
      }
    },
    {
      "cell_type": "code",
      "source": [
        "# use tqdm software to check how many epochs our training loop has gone through for the progress bar\n",
        "\n",
        "from tqdm.auto import tqdm\n",
        "\n",
        "# set the seed and start the timer\n",
        "torch.manual_seed(42)\n",
        "train_time_start_on_cpu = timer() # timer started before beginning the training\n",
        "\n",
        "# set the number of epochs (we are keeping this small for faster training)\n",
        "epochs = 3\n",
        "\n",
        "# Training\n",
        "for epoch in tqdm(range(epochs)): # to view our progress per epoch\n",
        "  train_loss = 0\n",
        "  print(f\"epoch number = {epoch}\")\n",
        "  # Running through the training dataset to train our model\n",
        "  for batch, (X, y) in enumerate(train_dataloader):\n",
        "    model_0.train()\n",
        "    \n",
        "    # forward pass\n",
        "    y_pred=model_0(X)\n",
        "\n",
        "    # calculate the loss per batch\n",
        "    loss = loss_fn(y_pred, y) # expected to be quite high as it has loss of all the batches\n",
        "    train_loss += loss # aggregate the losses of all the batches together\n",
        "\n",
        "    # 3. Optimizer zero grad\n",
        "    optimizer.zero_grad()\n",
        "\n",
        "    # 4. Loss backward\n",
        "    loss.backward()\n",
        "\n",
        "    # 5. Optimizer step\n",
        "    optimizer.step()\n",
        "\n",
        "    # check out the train accuracy\n",
        "    # train_acc+=accuracy_fn(X, )\n",
        "\n",
        "    # lets now check out by printing what happened\n",
        "    if batch%400==0:\n",
        "       print(f\"Gone through {batch * len(X)}/{len(train_dataloader.dataset)} samples\")\n",
        "\n",
        "  # let us find the average loss for each batch\n",
        "  train_loss /= len(train_dataloader)\n",
        "\n",
        "  # Testing\n",
        "  test_loss, test_acc=0, 0\n",
        "  model_0.eval()\n",
        "\n",
        "  with torch.inference_mode():\n",
        "    for X, y in test_dataloader:\n",
        "    \n",
        "      # Forward pass\n",
        "      test_pred = model_0(X)\n",
        "\n",
        "      # calculate loss\n",
        "      test_loss += loss_fn(test_pred, y) # calculating together for all the batches\n",
        "\n",
        "      # calculating accuracy\n",
        "      test_acc+=accuracy_fn(y_true=y, y_pred=test_pred.argmax(dim=1)) # comparing the labels so the columns need to be equal sized\n",
        "      ## the true label is the given one the dataset\n",
        "      # the argmax finds the highest value index for the prediction label\n",
        "  \n",
        "      # calculating the average test loss per batch\n",
        "    test_loss /= len(test_dataloader)\n",
        "\n",
        "      # calculating the average test accuarcy per batch\n",
        "    test_acc /= len(test_dataloader)\n",
        "\n",
        "  # let us check out whats happening\n",
        "  print(f\"\\n Train loss = {train_loss:.2f} | Test loss = {test_loss:.2f} | Test accuracy = {test_acc:.2f}%\\n\")\n",
        "\n",
        "# calculate the training time to check how long the model is taking to train on CPU\n",
        "train_time_end_on_cpu = timer()\n",
        "total_train_time_model_0 = print_train_time(start=train_time_start_on_cpu,\n",
        "                                 end=train_time_end_on_cpu,\n",
        "                                 device=str(next(model_0.parameters()).device))\n"
      ],
      "metadata": {
        "colab": {
          "base_uri": "https://localhost:8080/",
          "height": 535,
          "referenced_widgets": [
            "f3a414e1756a4dd6822c8f0d02fd266d",
            "a115a815e502461692b2c580e02acfdf",
            "7f3060448d2a4e6bbeaee449ec6a1abe",
            "b2ec93f6d98247fa8c6f5537ca696202",
            "b82e233889384cc99a70c473bc2473a5",
            "87d2f2dd933b4b9b896cb79c4d118e65",
            "01a64e0fb9ee47339518c99ceb80b5a0",
            "a41eefe3b6a941958e1e36984279d764",
            "99b38ccc8c87470db51d1ee60ac74b16",
            "8958ffd8994d45f89086ce1cc0056271",
            "c9dd766895174793ae3273affb25e89b"
          ]
        },
        "id": "QBQtF24e4QIS",
        "outputId": "4ae9c9b5-c33c-4152-8e60-0f3daeffd909"
      },
      "execution_count": null,
      "outputs": [
        {
          "output_type": "display_data",
          "data": {
            "text/plain": [
              "  0%|          | 0/3 [00:00<?, ?it/s]"
            ],
            "application/vnd.jupyter.widget-view+json": {
              "version_major": 2,
              "version_minor": 0,
              "model_id": "f3a414e1756a4dd6822c8f0d02fd266d"
            }
          },
          "metadata": {}
        },
        {
          "output_type": "stream",
          "name": "stdout",
          "text": [
            "epoch number = 0\n",
            "Gone through 0/60000 samples\n",
            "Gone through 12800/60000 samples\n",
            "Gone through 25600/60000 samples\n",
            "Gone through 38400/60000 samples\n",
            "Gone through 51200/60000 samples\n",
            "\n",
            " Train loss = 0.44 | Test loss = 0.47 | Test accuracy = 83.65%\n",
            "\n",
            "epoch number = 1\n",
            "Gone through 0/60000 samples\n",
            "Gone through 12800/60000 samples\n",
            "Gone through 25600/60000 samples\n",
            "Gone through 38400/60000 samples\n",
            "Gone through 51200/60000 samples\n",
            "\n",
            " Train loss = 0.44 | Test loss = 0.46 | Test accuracy = 83.89%\n",
            "\n",
            "epoch number = 2\n",
            "Gone through 0/60000 samples\n",
            "Gone through 12800/60000 samples\n",
            "Gone through 25600/60000 samples\n",
            "Gone through 38400/60000 samples\n",
            "Gone through 51200/60000 samples\n",
            "\n",
            " Train loss = 0.43 | Test loss = 0.47 | Test accuracy = 83.93%\n",
            "\n",
            "training time taken on cpu: 18.849 seconds\n"
          ]
        }
      ]
    },
    {
      "cell_type": "code",
      "source": [
        "str(next(model_0.parameters()).device)"
      ],
      "metadata": {
        "colab": {
          "base_uri": "https://localhost:8080/",
          "height": 35
        },
        "id": "-5xmx5O3F3k9",
        "outputId": "fb59db21-df2b-4c93-827f-bfc4344ef587"
      },
      "execution_count": null,
      "outputs": [
        {
          "output_type": "execute_result",
          "data": {
            "text/plain": [
              "'cpu'"
            ],
            "application/vnd.google.colaboratory.intrinsic+json": {
              "type": "string"
            }
          },
          "metadata": {},
          "execution_count": 222
        }
      ]
    },
    {
      "cell_type": "markdown",
      "source": [
        "## Creating a custom function to evaluate our model"
      ],
      "metadata": {
        "id": "P0X2F1XE8_My"
      }
    },
    {
      "cell_type": "code",
      "source": [
        "torch.manual_seed(42)\n",
        "\n",
        "def eval_model(model: torch.nn.Module,\n",
        "               data_loader: torch.utils.data.DataLoader,\n",
        "               loss_fn: torch.nn.Module,\n",
        "               accuracy_fn):\n",
        "  \"\"\"Returns a dictionary with the model name and performance\"\"\"\n",
        "  loss, acc = 0, 0\n",
        "  model.eval()\n",
        "  with torch.inference_mode():\n",
        "    for X, y in data_loader:\n",
        "      # Make predictions first\n",
        "      y_pred = model(X)\n",
        "\n",
        "\n",
        "      # agggregate the loss and accuracy functions\n",
        "      loss+=loss_fn(y_pred, y)\n",
        "      acc+=accuracy_fn(y_true=y, y_pred=y_pred.argmax(dim=1))\n",
        "\n",
        "      # find the loss and acc per batch\n",
        "      loss/=len(data_loader)\n",
        "      acc/=len(data_loader)\n",
        "\n",
        "    return {\"model_name\": model.__class__.__name__, # only works when model was created with a class\n",
        "            \"model_loss\": loss.item(),\n",
        "            \"model_acc\": acc}\n",
        "\n",
        "# passing model_0 for evaluation\n",
        "model_0_results = eval_model(model=model_0, data_loader=test_dataloader, loss_fn=loss_fn, accuracy_fn=accuracy_fn)\n",
        "model_0_results"
      ],
      "metadata": {
        "colab": {
          "base_uri": "https://localhost:8080/"
        },
        "id": "iHGrH-YI0uSX",
        "outputId": "889bc92e-1ca6-427d-a916-c786cdc38143"
      },
      "execution_count": null,
      "outputs": [
        {
          "output_type": "execute_result",
          "data": {
            "text/plain": [
              "{'model_acc': 0.3002890760994472,\n",
              " 'model_loss': 0.0011192552046850324,\n",
              " 'model_name': 'FashionMNISTModelV0'}"
            ]
          },
          "metadata": {},
          "execution_count": 246
        }
      ]
    }
  ]
}