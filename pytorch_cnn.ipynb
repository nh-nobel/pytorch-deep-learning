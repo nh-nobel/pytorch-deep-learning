{
  "nbformat": 4,
  "nbformat_minor": 0,
  "metadata": {
    "colab": {
      "name": "pytorch_cnn.ipynb",
      "provenance": [],
      "collapsed_sections": [
        "WtAL7Jyr75Tz"
      ]
    },
    "kernelspec": {
      "name": "python3",
      "display_name": "Python 3"
    },
    "language_info": {
      "name": "python"
    },
    "accelerator": "GPU",
    "gpuClass": "standard",
    "widgets": {
      "application/vnd.jupyter.widget-state+json": {
        "9fc21750d1344037a32698a92d798c24": {
          "model_module": "@jupyter-widgets/controls",
          "model_name": "HBoxModel",
          "model_module_version": "1.5.0",
          "state": {
            "_dom_classes": [],
            "_model_module": "@jupyter-widgets/controls",
            "_model_module_version": "1.5.0",
            "_model_name": "HBoxModel",
            "_view_count": null,
            "_view_module": "@jupyter-widgets/controls",
            "_view_module_version": "1.5.0",
            "_view_name": "HBoxView",
            "box_style": "",
            "children": [
              "IPY_MODEL_5c10d46c971742fcad30c6aa259267c6",
              "IPY_MODEL_39c2553a756142d4805a0dc08b8a7e50",
              "IPY_MODEL_ae49cdde86ac4aadaa80b0ccc369eb93"
            ],
            "layout": "IPY_MODEL_15c8017b974e482dbc04181ec203e788"
          }
        },
        "5c10d46c971742fcad30c6aa259267c6": {
          "model_module": "@jupyter-widgets/controls",
          "model_name": "HTMLModel",
          "model_module_version": "1.5.0",
          "state": {
            "_dom_classes": [],
            "_model_module": "@jupyter-widgets/controls",
            "_model_module_version": "1.5.0",
            "_model_name": "HTMLModel",
            "_view_count": null,
            "_view_module": "@jupyter-widgets/controls",
            "_view_module_version": "1.5.0",
            "_view_name": "HTMLView",
            "description": "",
            "description_tooltip": null,
            "layout": "IPY_MODEL_bd4d105376ce4f889e89426f5b00c7d9",
            "placeholder": "​",
            "style": "IPY_MODEL_9f8b2d9291124863a8fb91e94fdd3656",
            "value": "100%"
          }
        },
        "39c2553a756142d4805a0dc08b8a7e50": {
          "model_module": "@jupyter-widgets/controls",
          "model_name": "FloatProgressModel",
          "model_module_version": "1.5.0",
          "state": {
            "_dom_classes": [],
            "_model_module": "@jupyter-widgets/controls",
            "_model_module_version": "1.5.0",
            "_model_name": "FloatProgressModel",
            "_view_count": null,
            "_view_module": "@jupyter-widgets/controls",
            "_view_module_version": "1.5.0",
            "_view_name": "ProgressView",
            "bar_style": "success",
            "description": "",
            "description_tooltip": null,
            "layout": "IPY_MODEL_e16e0a49d68649349b3132722f3836df",
            "max": 3,
            "min": 0,
            "orientation": "horizontal",
            "style": "IPY_MODEL_955433c69b55418b8cce94f8206f8c0d",
            "value": 3
          }
        },
        "ae49cdde86ac4aadaa80b0ccc369eb93": {
          "model_module": "@jupyter-widgets/controls",
          "model_name": "HTMLModel",
          "model_module_version": "1.5.0",
          "state": {
            "_dom_classes": [],
            "_model_module": "@jupyter-widgets/controls",
            "_model_module_version": "1.5.0",
            "_model_name": "HTMLModel",
            "_view_count": null,
            "_view_module": "@jupyter-widgets/controls",
            "_view_module_version": "1.5.0",
            "_view_name": "HTMLView",
            "description": "",
            "description_tooltip": null,
            "layout": "IPY_MODEL_7ecc486eb10e4ef2aef64394517708a3",
            "placeholder": "​",
            "style": "IPY_MODEL_560e6e278a194cc59a3467545db0c1b5",
            "value": " 3/3 [00:31&lt;00:00,  9.89s/it]"
          }
        },
        "15c8017b974e482dbc04181ec203e788": {
          "model_module": "@jupyter-widgets/base",
          "model_name": "LayoutModel",
          "model_module_version": "1.2.0",
          "state": {
            "_model_module": "@jupyter-widgets/base",
            "_model_module_version": "1.2.0",
            "_model_name": "LayoutModel",
            "_view_count": null,
            "_view_module": "@jupyter-widgets/base",
            "_view_module_version": "1.2.0",
            "_view_name": "LayoutView",
            "align_content": null,
            "align_items": null,
            "align_self": null,
            "border": null,
            "bottom": null,
            "display": null,
            "flex": null,
            "flex_flow": null,
            "grid_area": null,
            "grid_auto_columns": null,
            "grid_auto_flow": null,
            "grid_auto_rows": null,
            "grid_column": null,
            "grid_gap": null,
            "grid_row": null,
            "grid_template_areas": null,
            "grid_template_columns": null,
            "grid_template_rows": null,
            "height": null,
            "justify_content": null,
            "justify_items": null,
            "left": null,
            "margin": null,
            "max_height": null,
            "max_width": null,
            "min_height": null,
            "min_width": null,
            "object_fit": null,
            "object_position": null,
            "order": null,
            "overflow": null,
            "overflow_x": null,
            "overflow_y": null,
            "padding": null,
            "right": null,
            "top": null,
            "visibility": null,
            "width": null
          }
        },
        "bd4d105376ce4f889e89426f5b00c7d9": {
          "model_module": "@jupyter-widgets/base",
          "model_name": "LayoutModel",
          "model_module_version": "1.2.0",
          "state": {
            "_model_module": "@jupyter-widgets/base",
            "_model_module_version": "1.2.0",
            "_model_name": "LayoutModel",
            "_view_count": null,
            "_view_module": "@jupyter-widgets/base",
            "_view_module_version": "1.2.0",
            "_view_name": "LayoutView",
            "align_content": null,
            "align_items": null,
            "align_self": null,
            "border": null,
            "bottom": null,
            "display": null,
            "flex": null,
            "flex_flow": null,
            "grid_area": null,
            "grid_auto_columns": null,
            "grid_auto_flow": null,
            "grid_auto_rows": null,
            "grid_column": null,
            "grid_gap": null,
            "grid_row": null,
            "grid_template_areas": null,
            "grid_template_columns": null,
            "grid_template_rows": null,
            "height": null,
            "justify_content": null,
            "justify_items": null,
            "left": null,
            "margin": null,
            "max_height": null,
            "max_width": null,
            "min_height": null,
            "min_width": null,
            "object_fit": null,
            "object_position": null,
            "order": null,
            "overflow": null,
            "overflow_x": null,
            "overflow_y": null,
            "padding": null,
            "right": null,
            "top": null,
            "visibility": null,
            "width": null
          }
        },
        "9f8b2d9291124863a8fb91e94fdd3656": {
          "model_module": "@jupyter-widgets/controls",
          "model_name": "DescriptionStyleModel",
          "model_module_version": "1.5.0",
          "state": {
            "_model_module": "@jupyter-widgets/controls",
            "_model_module_version": "1.5.0",
            "_model_name": "DescriptionStyleModel",
            "_view_count": null,
            "_view_module": "@jupyter-widgets/base",
            "_view_module_version": "1.2.0",
            "_view_name": "StyleView",
            "description_width": ""
          }
        },
        "e16e0a49d68649349b3132722f3836df": {
          "model_module": "@jupyter-widgets/base",
          "model_name": "LayoutModel",
          "model_module_version": "1.2.0",
          "state": {
            "_model_module": "@jupyter-widgets/base",
            "_model_module_version": "1.2.0",
            "_model_name": "LayoutModel",
            "_view_count": null,
            "_view_module": "@jupyter-widgets/base",
            "_view_module_version": "1.2.0",
            "_view_name": "LayoutView",
            "align_content": null,
            "align_items": null,
            "align_self": null,
            "border": null,
            "bottom": null,
            "display": null,
            "flex": null,
            "flex_flow": null,
            "grid_area": null,
            "grid_auto_columns": null,
            "grid_auto_flow": null,
            "grid_auto_rows": null,
            "grid_column": null,
            "grid_gap": null,
            "grid_row": null,
            "grid_template_areas": null,
            "grid_template_columns": null,
            "grid_template_rows": null,
            "height": null,
            "justify_content": null,
            "justify_items": null,
            "left": null,
            "margin": null,
            "max_height": null,
            "max_width": null,
            "min_height": null,
            "min_width": null,
            "object_fit": null,
            "object_position": null,
            "order": null,
            "overflow": null,
            "overflow_x": null,
            "overflow_y": null,
            "padding": null,
            "right": null,
            "top": null,
            "visibility": null,
            "width": null
          }
        },
        "955433c69b55418b8cce94f8206f8c0d": {
          "model_module": "@jupyter-widgets/controls",
          "model_name": "ProgressStyleModel",
          "model_module_version": "1.5.0",
          "state": {
            "_model_module": "@jupyter-widgets/controls",
            "_model_module_version": "1.5.0",
            "_model_name": "ProgressStyleModel",
            "_view_count": null,
            "_view_module": "@jupyter-widgets/base",
            "_view_module_version": "1.2.0",
            "_view_name": "StyleView",
            "bar_color": null,
            "description_width": ""
          }
        },
        "7ecc486eb10e4ef2aef64394517708a3": {
          "model_module": "@jupyter-widgets/base",
          "model_name": "LayoutModel",
          "model_module_version": "1.2.0",
          "state": {
            "_model_module": "@jupyter-widgets/base",
            "_model_module_version": "1.2.0",
            "_model_name": "LayoutModel",
            "_view_count": null,
            "_view_module": "@jupyter-widgets/base",
            "_view_module_version": "1.2.0",
            "_view_name": "LayoutView",
            "align_content": null,
            "align_items": null,
            "align_self": null,
            "border": null,
            "bottom": null,
            "display": null,
            "flex": null,
            "flex_flow": null,
            "grid_area": null,
            "grid_auto_columns": null,
            "grid_auto_flow": null,
            "grid_auto_rows": null,
            "grid_column": null,
            "grid_gap": null,
            "grid_row": null,
            "grid_template_areas": null,
            "grid_template_columns": null,
            "grid_template_rows": null,
            "height": null,
            "justify_content": null,
            "justify_items": null,
            "left": null,
            "margin": null,
            "max_height": null,
            "max_width": null,
            "min_height": null,
            "min_width": null,
            "object_fit": null,
            "object_position": null,
            "order": null,
            "overflow": null,
            "overflow_x": null,
            "overflow_y": null,
            "padding": null,
            "right": null,
            "top": null,
            "visibility": null,
            "width": null
          }
        },
        "560e6e278a194cc59a3467545db0c1b5": {
          "model_module": "@jupyter-widgets/controls",
          "model_name": "DescriptionStyleModel",
          "model_module_version": "1.5.0",
          "state": {
            "_model_module": "@jupyter-widgets/controls",
            "_model_module_version": "1.5.0",
            "_model_name": "DescriptionStyleModel",
            "_view_count": null,
            "_view_module": "@jupyter-widgets/base",
            "_view_module_version": "1.2.0",
            "_view_name": "StyleView",
            "description_width": ""
          }
        },
        "5044fda5096f416ebd535b3a7c30fa6c": {
          "model_module": "@jupyter-widgets/controls",
          "model_name": "HBoxModel",
          "model_module_version": "1.5.0",
          "state": {
            "_dom_classes": [],
            "_model_module": "@jupyter-widgets/controls",
            "_model_module_version": "1.5.0",
            "_model_name": "HBoxModel",
            "_view_count": null,
            "_view_module": "@jupyter-widgets/controls",
            "_view_module_version": "1.5.0",
            "_view_name": "HBoxView",
            "box_style": "",
            "children": [
              "IPY_MODEL_bd10ff4e53c24c0fb500dcb880102e62",
              "IPY_MODEL_41e5487e9ced429e96a5b828fd0d13cf",
              "IPY_MODEL_d297fe9398af4d29937de68ac192f43f"
            ],
            "layout": "IPY_MODEL_d887752c66564f42adbad641fe6cf688"
          }
        },
        "bd10ff4e53c24c0fb500dcb880102e62": {
          "model_module": "@jupyter-widgets/controls",
          "model_name": "HTMLModel",
          "model_module_version": "1.5.0",
          "state": {
            "_dom_classes": [],
            "_model_module": "@jupyter-widgets/controls",
            "_model_module_version": "1.5.0",
            "_model_name": "HTMLModel",
            "_view_count": null,
            "_view_module": "@jupyter-widgets/controls",
            "_view_module_version": "1.5.0",
            "_view_name": "HTMLView",
            "description": "",
            "description_tooltip": null,
            "layout": "IPY_MODEL_1023aaa558a64796952bfdb5494fc1a6",
            "placeholder": "​",
            "style": "IPY_MODEL_4288d440e84b449190d3a7687ac7e00f",
            "value": "100%"
          }
        },
        "41e5487e9ced429e96a5b828fd0d13cf": {
          "model_module": "@jupyter-widgets/controls",
          "model_name": "FloatProgressModel",
          "model_module_version": "1.5.0",
          "state": {
            "_dom_classes": [],
            "_model_module": "@jupyter-widgets/controls",
            "_model_module_version": "1.5.0",
            "_model_name": "FloatProgressModel",
            "_view_count": null,
            "_view_module": "@jupyter-widgets/controls",
            "_view_module_version": "1.5.0",
            "_view_name": "ProgressView",
            "bar_style": "success",
            "description": "",
            "description_tooltip": null,
            "layout": "IPY_MODEL_7ce6425a9d954f0a9d584658fc96f845",
            "max": 10,
            "min": 0,
            "orientation": "horizontal",
            "style": "IPY_MODEL_22acaffe5a2a4c92b78d67b790c19070",
            "value": 10
          }
        },
        "d297fe9398af4d29937de68ac192f43f": {
          "model_module": "@jupyter-widgets/controls",
          "model_name": "HTMLModel",
          "model_module_version": "1.5.0",
          "state": {
            "_dom_classes": [],
            "_model_module": "@jupyter-widgets/controls",
            "_model_module_version": "1.5.0",
            "_model_name": "HTMLModel",
            "_view_count": null,
            "_view_module": "@jupyter-widgets/controls",
            "_view_module_version": "1.5.0",
            "_view_name": "HTMLView",
            "description": "",
            "description_tooltip": null,
            "layout": "IPY_MODEL_c1f2979498bc4469a4164e8f0fd3498a",
            "placeholder": "​",
            "style": "IPY_MODEL_68f4a7217762497e89d9a443ff5b6792",
            "value": " 10/10 [01:17&lt;00:00,  7.68s/it]"
          }
        },
        "d887752c66564f42adbad641fe6cf688": {
          "model_module": "@jupyter-widgets/base",
          "model_name": "LayoutModel",
          "model_module_version": "1.2.0",
          "state": {
            "_model_module": "@jupyter-widgets/base",
            "_model_module_version": "1.2.0",
            "_model_name": "LayoutModel",
            "_view_count": null,
            "_view_module": "@jupyter-widgets/base",
            "_view_module_version": "1.2.0",
            "_view_name": "LayoutView",
            "align_content": null,
            "align_items": null,
            "align_self": null,
            "border": null,
            "bottom": null,
            "display": null,
            "flex": null,
            "flex_flow": null,
            "grid_area": null,
            "grid_auto_columns": null,
            "grid_auto_flow": null,
            "grid_auto_rows": null,
            "grid_column": null,
            "grid_gap": null,
            "grid_row": null,
            "grid_template_areas": null,
            "grid_template_columns": null,
            "grid_template_rows": null,
            "height": null,
            "justify_content": null,
            "justify_items": null,
            "left": null,
            "margin": null,
            "max_height": null,
            "max_width": null,
            "min_height": null,
            "min_width": null,
            "object_fit": null,
            "object_position": null,
            "order": null,
            "overflow": null,
            "overflow_x": null,
            "overflow_y": null,
            "padding": null,
            "right": null,
            "top": null,
            "visibility": null,
            "width": null
          }
        },
        "1023aaa558a64796952bfdb5494fc1a6": {
          "model_module": "@jupyter-widgets/base",
          "model_name": "LayoutModel",
          "model_module_version": "1.2.0",
          "state": {
            "_model_module": "@jupyter-widgets/base",
            "_model_module_version": "1.2.0",
            "_model_name": "LayoutModel",
            "_view_count": null,
            "_view_module": "@jupyter-widgets/base",
            "_view_module_version": "1.2.0",
            "_view_name": "LayoutView",
            "align_content": null,
            "align_items": null,
            "align_self": null,
            "border": null,
            "bottom": null,
            "display": null,
            "flex": null,
            "flex_flow": null,
            "grid_area": null,
            "grid_auto_columns": null,
            "grid_auto_flow": null,
            "grid_auto_rows": null,
            "grid_column": null,
            "grid_gap": null,
            "grid_row": null,
            "grid_template_areas": null,
            "grid_template_columns": null,
            "grid_template_rows": null,
            "height": null,
            "justify_content": null,
            "justify_items": null,
            "left": null,
            "margin": null,
            "max_height": null,
            "max_width": null,
            "min_height": null,
            "min_width": null,
            "object_fit": null,
            "object_position": null,
            "order": null,
            "overflow": null,
            "overflow_x": null,
            "overflow_y": null,
            "padding": null,
            "right": null,
            "top": null,
            "visibility": null,
            "width": null
          }
        },
        "4288d440e84b449190d3a7687ac7e00f": {
          "model_module": "@jupyter-widgets/controls",
          "model_name": "DescriptionStyleModel",
          "model_module_version": "1.5.0",
          "state": {
            "_model_module": "@jupyter-widgets/controls",
            "_model_module_version": "1.5.0",
            "_model_name": "DescriptionStyleModel",
            "_view_count": null,
            "_view_module": "@jupyter-widgets/base",
            "_view_module_version": "1.2.0",
            "_view_name": "StyleView",
            "description_width": ""
          }
        },
        "7ce6425a9d954f0a9d584658fc96f845": {
          "model_module": "@jupyter-widgets/base",
          "model_name": "LayoutModel",
          "model_module_version": "1.2.0",
          "state": {
            "_model_module": "@jupyter-widgets/base",
            "_model_module_version": "1.2.0",
            "_model_name": "LayoutModel",
            "_view_count": null,
            "_view_module": "@jupyter-widgets/base",
            "_view_module_version": "1.2.0",
            "_view_name": "LayoutView",
            "align_content": null,
            "align_items": null,
            "align_self": null,
            "border": null,
            "bottom": null,
            "display": null,
            "flex": null,
            "flex_flow": null,
            "grid_area": null,
            "grid_auto_columns": null,
            "grid_auto_flow": null,
            "grid_auto_rows": null,
            "grid_column": null,
            "grid_gap": null,
            "grid_row": null,
            "grid_template_areas": null,
            "grid_template_columns": null,
            "grid_template_rows": null,
            "height": null,
            "justify_content": null,
            "justify_items": null,
            "left": null,
            "margin": null,
            "max_height": null,
            "max_width": null,
            "min_height": null,
            "min_width": null,
            "object_fit": null,
            "object_position": null,
            "order": null,
            "overflow": null,
            "overflow_x": null,
            "overflow_y": null,
            "padding": null,
            "right": null,
            "top": null,
            "visibility": null,
            "width": null
          }
        },
        "22acaffe5a2a4c92b78d67b790c19070": {
          "model_module": "@jupyter-widgets/controls",
          "model_name": "ProgressStyleModel",
          "model_module_version": "1.5.0",
          "state": {
            "_model_module": "@jupyter-widgets/controls",
            "_model_module_version": "1.5.0",
            "_model_name": "ProgressStyleModel",
            "_view_count": null,
            "_view_module": "@jupyter-widgets/base",
            "_view_module_version": "1.2.0",
            "_view_name": "StyleView",
            "bar_color": null,
            "description_width": ""
          }
        },
        "c1f2979498bc4469a4164e8f0fd3498a": {
          "model_module": "@jupyter-widgets/base",
          "model_name": "LayoutModel",
          "model_module_version": "1.2.0",
          "state": {
            "_model_module": "@jupyter-widgets/base",
            "_model_module_version": "1.2.0",
            "_model_name": "LayoutModel",
            "_view_count": null,
            "_view_module": "@jupyter-widgets/base",
            "_view_module_version": "1.2.0",
            "_view_name": "LayoutView",
            "align_content": null,
            "align_items": null,
            "align_self": null,
            "border": null,
            "bottom": null,
            "display": null,
            "flex": null,
            "flex_flow": null,
            "grid_area": null,
            "grid_auto_columns": null,
            "grid_auto_flow": null,
            "grid_auto_rows": null,
            "grid_column": null,
            "grid_gap": null,
            "grid_row": null,
            "grid_template_areas": null,
            "grid_template_columns": null,
            "grid_template_rows": null,
            "height": null,
            "justify_content": null,
            "justify_items": null,
            "left": null,
            "margin": null,
            "max_height": null,
            "max_width": null,
            "min_height": null,
            "min_width": null,
            "object_fit": null,
            "object_position": null,
            "order": null,
            "overflow": null,
            "overflow_x": null,
            "overflow_y": null,
            "padding": null,
            "right": null,
            "top": null,
            "visibility": null,
            "width": null
          }
        },
        "68f4a7217762497e89d9a443ff5b6792": {
          "model_module": "@jupyter-widgets/controls",
          "model_name": "DescriptionStyleModel",
          "model_module_version": "1.5.0",
          "state": {
            "_model_module": "@jupyter-widgets/controls",
            "_model_module_version": "1.5.0",
            "_model_name": "DescriptionStyleModel",
            "_view_count": null,
            "_view_module": "@jupyter-widgets/base",
            "_view_module_version": "1.2.0",
            "_view_name": "StyleView",
            "description_width": ""
          }
        }
      }
    }
  },
  "cells": [
    {
      "cell_type": "code",
      "source": [
        "# torchvision.dataset = get dataset and dataloading for computer vision\n",
        "# torchvision.models = using pre trained models for our own\n",
        "# torchvision transforms = functions for manipulating images\n",
        "# torch.utls.data.Dataset = base dataset class to create our own dataset"
      ],
      "metadata": {
        "id": "6sxzsV7q51Sg"
      },
      "execution_count": 31,
      "outputs": []
    },
    {
      "cell_type": "code",
      "source": [
        "import torch\n",
        "from torch import nn\n",
        "import torchvision\n",
        "from torchvision import datasets, transforms \n",
        "from torchvision.transforms import ToTensor\n",
        "import matplotlib.pyplot as plt\n",
        "\n",
        "#check version\n",
        "print(torch.__version__)\n",
        "print(torchvision.__version__)"
      ],
      "metadata": {
        "colab": {
          "base_uri": "https://localhost:8080/"
        },
        "id": "Hb06i8jz62mb",
        "outputId": "8d1f10d3-d881-463d-bc73-1a3ac95f035a"
      },
      "execution_count": 32,
      "outputs": [
        {
          "output_type": "stream",
          "name": "stdout",
          "text": [
            "1.12.0+cu113\n",
            "0.13.0+cu113\n"
          ]
        }
      ]
    },
    {
      "cell_type": "markdown",
      "source": [
        "## Getting the dataset"
      ],
      "metadata": {
        "id": "WtAL7Jyr75Tz"
      }
    },
    {
      "cell_type": "code",
      "source": [
        "# We are going to use FashionMNIST dataset for this learning\n",
        "# setup training data\n",
        "\n",
        "train_data = datasets.FashionMNIST(\n",
        "    root=\"data\", # where we want to save the dataset to\n",
        "    train=True, # we want the training dataset\n",
        "    download=True, # we want to download the dataset\n",
        "    transform=ToTensor(), # convert the images to tensors as needed\n",
        "    target_transform=None # how doo we want to transform the labels\n",
        ")\n",
        "\n",
        "test_data = datasets.FashionMNIST(\n",
        "    root=\"data\", \n",
        "    train=False, \n",
        "    download=True, \n",
        "    transform=ToTensor()\n",
        ")"
      ],
      "metadata": {
        "id": "PHuMm-_n8J_6"
      },
      "execution_count": 33,
      "outputs": []
    },
    {
      "cell_type": "code",
      "source": [
        "len(train_data), len(test_data)"
      ],
      "metadata": {
        "colab": {
          "base_uri": "https://localhost:8080/"
        },
        "id": "XZaqFbdCB8cM",
        "outputId": "5e10e327-8f1a-4249-bbc5-06f5a8401a5f"
      },
      "execution_count": 34,
      "outputs": [
        {
          "output_type": "execute_result",
          "data": {
            "text/plain": [
              "(60000, 10000)"
            ]
          },
          "metadata": {},
          "execution_count": 34
        }
      ]
    },
    {
      "cell_type": "code",
      "source": [
        "# See the first training example\n",
        "# we find the images to tensor. \n",
        "# PIL image - Python Image Library\n",
        "# check to_transform documentation\n",
        "image, label = train_data[0]\n",
        "image, label"
      ],
      "metadata": {
        "colab": {
          "base_uri": "https://localhost:8080/"
        },
        "id": "iWDCzRUmCVdN",
        "outputId": "c211b959-5811-4b4c-f037-d4637fe29521"
      },
      "execution_count": 35,
      "outputs": [
        {
          "output_type": "execute_result",
          "data": {
            "text/plain": [
              "(tensor([[[0.0000, 0.0000, 0.0000, 0.0000, 0.0000, 0.0000, 0.0000, 0.0000,\n",
              "           0.0000, 0.0000, 0.0000, 0.0000, 0.0000, 0.0000, 0.0000, 0.0000,\n",
              "           0.0000, 0.0000, 0.0000, 0.0000, 0.0000, 0.0000, 0.0000, 0.0000,\n",
              "           0.0000, 0.0000, 0.0000, 0.0000],\n",
              "          [0.0000, 0.0000, 0.0000, 0.0000, 0.0000, 0.0000, 0.0000, 0.0000,\n",
              "           0.0000, 0.0000, 0.0000, 0.0000, 0.0000, 0.0000, 0.0000, 0.0000,\n",
              "           0.0000, 0.0000, 0.0000, 0.0000, 0.0000, 0.0000, 0.0000, 0.0000,\n",
              "           0.0000, 0.0000, 0.0000, 0.0000],\n",
              "          [0.0000, 0.0000, 0.0000, 0.0000, 0.0000, 0.0000, 0.0000, 0.0000,\n",
              "           0.0000, 0.0000, 0.0000, 0.0000, 0.0000, 0.0000, 0.0000, 0.0000,\n",
              "           0.0000, 0.0000, 0.0000, 0.0000, 0.0000, 0.0000, 0.0000, 0.0000,\n",
              "           0.0000, 0.0000, 0.0000, 0.0000],\n",
              "          [0.0000, 0.0000, 0.0000, 0.0000, 0.0000, 0.0000, 0.0000, 0.0000,\n",
              "           0.0000, 0.0000, 0.0000, 0.0000, 0.0039, 0.0000, 0.0000, 0.0510,\n",
              "           0.2863, 0.0000, 0.0000, 0.0039, 0.0157, 0.0000, 0.0000, 0.0000,\n",
              "           0.0000, 0.0039, 0.0039, 0.0000],\n",
              "          [0.0000, 0.0000, 0.0000, 0.0000, 0.0000, 0.0000, 0.0000, 0.0000,\n",
              "           0.0000, 0.0000, 0.0000, 0.0000, 0.0118, 0.0000, 0.1412, 0.5333,\n",
              "           0.4980, 0.2431, 0.2118, 0.0000, 0.0000, 0.0000, 0.0039, 0.0118,\n",
              "           0.0157, 0.0000, 0.0000, 0.0118],\n",
              "          [0.0000, 0.0000, 0.0000, 0.0000, 0.0000, 0.0000, 0.0000, 0.0000,\n",
              "           0.0000, 0.0000, 0.0000, 0.0000, 0.0235, 0.0000, 0.4000, 0.8000,\n",
              "           0.6902, 0.5255, 0.5647, 0.4824, 0.0902, 0.0000, 0.0000, 0.0000,\n",
              "           0.0000, 0.0471, 0.0392, 0.0000],\n",
              "          [0.0000, 0.0000, 0.0000, 0.0000, 0.0000, 0.0000, 0.0000, 0.0000,\n",
              "           0.0000, 0.0000, 0.0000, 0.0000, 0.0000, 0.0000, 0.6078, 0.9255,\n",
              "           0.8118, 0.6980, 0.4196, 0.6118, 0.6314, 0.4275, 0.2510, 0.0902,\n",
              "           0.3020, 0.5098, 0.2824, 0.0588],\n",
              "          [0.0000, 0.0000, 0.0000, 0.0000, 0.0000, 0.0000, 0.0000, 0.0000,\n",
              "           0.0000, 0.0000, 0.0000, 0.0039, 0.0000, 0.2706, 0.8118, 0.8745,\n",
              "           0.8549, 0.8471, 0.8471, 0.6392, 0.4980, 0.4745, 0.4784, 0.5725,\n",
              "           0.5529, 0.3451, 0.6745, 0.2588],\n",
              "          [0.0000, 0.0000, 0.0000, 0.0000, 0.0000, 0.0000, 0.0000, 0.0000,\n",
              "           0.0000, 0.0039, 0.0039, 0.0039, 0.0000, 0.7843, 0.9098, 0.9098,\n",
              "           0.9137, 0.8980, 0.8745, 0.8745, 0.8431, 0.8353, 0.6431, 0.4980,\n",
              "           0.4824, 0.7686, 0.8980, 0.0000],\n",
              "          [0.0000, 0.0000, 0.0000, 0.0000, 0.0000, 0.0000, 0.0000, 0.0000,\n",
              "           0.0000, 0.0000, 0.0000, 0.0000, 0.0000, 0.7176, 0.8824, 0.8471,\n",
              "           0.8745, 0.8941, 0.9216, 0.8902, 0.8784, 0.8706, 0.8784, 0.8667,\n",
              "           0.8745, 0.9608, 0.6784, 0.0000],\n",
              "          [0.0000, 0.0000, 0.0000, 0.0000, 0.0000, 0.0000, 0.0000, 0.0000,\n",
              "           0.0000, 0.0000, 0.0000, 0.0000, 0.0000, 0.7569, 0.8941, 0.8549,\n",
              "           0.8353, 0.7765, 0.7059, 0.8314, 0.8235, 0.8275, 0.8353, 0.8745,\n",
              "           0.8627, 0.9529, 0.7922, 0.0000],\n",
              "          [0.0000, 0.0000, 0.0000, 0.0000, 0.0000, 0.0000, 0.0000, 0.0000,\n",
              "           0.0000, 0.0039, 0.0118, 0.0000, 0.0471, 0.8588, 0.8627, 0.8314,\n",
              "           0.8549, 0.7529, 0.6627, 0.8902, 0.8157, 0.8549, 0.8784, 0.8314,\n",
              "           0.8863, 0.7725, 0.8196, 0.2039],\n",
              "          [0.0000, 0.0000, 0.0000, 0.0000, 0.0000, 0.0000, 0.0000, 0.0000,\n",
              "           0.0000, 0.0000, 0.0235, 0.0000, 0.3882, 0.9569, 0.8706, 0.8627,\n",
              "           0.8549, 0.7961, 0.7765, 0.8667, 0.8431, 0.8353, 0.8706, 0.8627,\n",
              "           0.9608, 0.4667, 0.6549, 0.2196],\n",
              "          [0.0000, 0.0000, 0.0000, 0.0000, 0.0000, 0.0000, 0.0000, 0.0000,\n",
              "           0.0000, 0.0157, 0.0000, 0.0000, 0.2157, 0.9255, 0.8941, 0.9020,\n",
              "           0.8941, 0.9412, 0.9098, 0.8353, 0.8549, 0.8745, 0.9176, 0.8510,\n",
              "           0.8510, 0.8196, 0.3608, 0.0000],\n",
              "          [0.0000, 0.0000, 0.0039, 0.0157, 0.0235, 0.0275, 0.0078, 0.0000,\n",
              "           0.0000, 0.0000, 0.0000, 0.0000, 0.9294, 0.8863, 0.8510, 0.8745,\n",
              "           0.8706, 0.8588, 0.8706, 0.8667, 0.8471, 0.8745, 0.8980, 0.8431,\n",
              "           0.8549, 1.0000, 0.3020, 0.0000],\n",
              "          [0.0000, 0.0118, 0.0000, 0.0000, 0.0000, 0.0000, 0.0000, 0.0000,\n",
              "           0.0000, 0.2431, 0.5686, 0.8000, 0.8941, 0.8118, 0.8353, 0.8667,\n",
              "           0.8549, 0.8157, 0.8275, 0.8549, 0.8784, 0.8745, 0.8588, 0.8431,\n",
              "           0.8784, 0.9569, 0.6235, 0.0000],\n",
              "          [0.0000, 0.0000, 0.0000, 0.0000, 0.0706, 0.1725, 0.3216, 0.4196,\n",
              "           0.7412, 0.8941, 0.8627, 0.8706, 0.8510, 0.8863, 0.7843, 0.8039,\n",
              "           0.8275, 0.9020, 0.8784, 0.9176, 0.6902, 0.7373, 0.9804, 0.9725,\n",
              "           0.9137, 0.9333, 0.8431, 0.0000],\n",
              "          [0.0000, 0.2235, 0.7333, 0.8157, 0.8784, 0.8667, 0.8784, 0.8157,\n",
              "           0.8000, 0.8392, 0.8157, 0.8196, 0.7843, 0.6235, 0.9608, 0.7569,\n",
              "           0.8078, 0.8745, 1.0000, 1.0000, 0.8667, 0.9176, 0.8667, 0.8275,\n",
              "           0.8627, 0.9098, 0.9647, 0.0000],\n",
              "          [0.0118, 0.7922, 0.8941, 0.8784, 0.8667, 0.8275, 0.8275, 0.8392,\n",
              "           0.8039, 0.8039, 0.8039, 0.8627, 0.9412, 0.3137, 0.5882, 1.0000,\n",
              "           0.8980, 0.8667, 0.7373, 0.6039, 0.7490, 0.8235, 0.8000, 0.8196,\n",
              "           0.8706, 0.8941, 0.8824, 0.0000],\n",
              "          [0.3843, 0.9137, 0.7765, 0.8235, 0.8706, 0.8980, 0.8980, 0.9176,\n",
              "           0.9765, 0.8627, 0.7608, 0.8431, 0.8510, 0.9451, 0.2549, 0.2863,\n",
              "           0.4157, 0.4588, 0.6588, 0.8588, 0.8667, 0.8431, 0.8510, 0.8745,\n",
              "           0.8745, 0.8784, 0.8980, 0.1137],\n",
              "          [0.2941, 0.8000, 0.8314, 0.8000, 0.7569, 0.8039, 0.8275, 0.8824,\n",
              "           0.8471, 0.7255, 0.7725, 0.8078, 0.7765, 0.8353, 0.9412, 0.7647,\n",
              "           0.8902, 0.9608, 0.9373, 0.8745, 0.8549, 0.8314, 0.8196, 0.8706,\n",
              "           0.8627, 0.8667, 0.9020, 0.2627],\n",
              "          [0.1882, 0.7961, 0.7176, 0.7608, 0.8353, 0.7725, 0.7255, 0.7451,\n",
              "           0.7608, 0.7529, 0.7922, 0.8392, 0.8588, 0.8667, 0.8627, 0.9255,\n",
              "           0.8824, 0.8471, 0.7804, 0.8078, 0.7294, 0.7098, 0.6941, 0.6745,\n",
              "           0.7098, 0.8039, 0.8078, 0.4510],\n",
              "          [0.0000, 0.4784, 0.8588, 0.7569, 0.7020, 0.6706, 0.7176, 0.7686,\n",
              "           0.8000, 0.8235, 0.8353, 0.8118, 0.8275, 0.8235, 0.7843, 0.7686,\n",
              "           0.7608, 0.7490, 0.7647, 0.7490, 0.7765, 0.7529, 0.6902, 0.6118,\n",
              "           0.6549, 0.6941, 0.8235, 0.3608],\n",
              "          [0.0000, 0.0000, 0.2902, 0.7412, 0.8314, 0.7490, 0.6863, 0.6745,\n",
              "           0.6863, 0.7098, 0.7255, 0.7373, 0.7412, 0.7373, 0.7569, 0.7765,\n",
              "           0.8000, 0.8196, 0.8235, 0.8235, 0.8275, 0.7373, 0.7373, 0.7608,\n",
              "           0.7529, 0.8471, 0.6667, 0.0000],\n",
              "          [0.0078, 0.0000, 0.0000, 0.0000, 0.2588, 0.7843, 0.8706, 0.9294,\n",
              "           0.9373, 0.9490, 0.9647, 0.9529, 0.9569, 0.8667, 0.8627, 0.7569,\n",
              "           0.7490, 0.7020, 0.7137, 0.7137, 0.7098, 0.6902, 0.6510, 0.6588,\n",
              "           0.3882, 0.2275, 0.0000, 0.0000],\n",
              "          [0.0000, 0.0000, 0.0000, 0.0000, 0.0000, 0.0000, 0.0000, 0.1569,\n",
              "           0.2392, 0.1725, 0.2824, 0.1608, 0.1373, 0.0000, 0.0000, 0.0000,\n",
              "           0.0000, 0.0000, 0.0000, 0.0000, 0.0000, 0.0000, 0.0000, 0.0000,\n",
              "           0.0000, 0.0000, 0.0000, 0.0000],\n",
              "          [0.0000, 0.0000, 0.0000, 0.0000, 0.0000, 0.0000, 0.0000, 0.0000,\n",
              "           0.0000, 0.0000, 0.0000, 0.0000, 0.0000, 0.0000, 0.0000, 0.0000,\n",
              "           0.0000, 0.0000, 0.0000, 0.0000, 0.0000, 0.0000, 0.0000, 0.0000,\n",
              "           0.0000, 0.0000, 0.0000, 0.0000],\n",
              "          [0.0000, 0.0000, 0.0000, 0.0000, 0.0000, 0.0000, 0.0000, 0.0000,\n",
              "           0.0000, 0.0000, 0.0000, 0.0000, 0.0000, 0.0000, 0.0000, 0.0000,\n",
              "           0.0000, 0.0000, 0.0000, 0.0000, 0.0000, 0.0000, 0.0000, 0.0000,\n",
              "           0.0000, 0.0000, 0.0000, 0.0000]]]), 9)"
            ]
          },
          "metadata": {},
          "execution_count": 35
        }
      ]
    },
    {
      "cell_type": "code",
      "source": [
        "# check the target classes \n",
        "class_names = train_data.classes\n",
        "class_names"
      ],
      "metadata": {
        "colab": {
          "base_uri": "https://localhost:8080/"
        },
        "id": "GvyBEFl2C4sd",
        "outputId": "5a5d65bd-86c9-452e-dc5c-a8f3f837ecb6"
      },
      "execution_count": 36,
      "outputs": [
        {
          "output_type": "execute_result",
          "data": {
            "text/plain": [
              "['T-shirt/top',\n",
              " 'Trouser',\n",
              " 'Pullover',\n",
              " 'Dress',\n",
              " 'Coat',\n",
              " 'Sandal',\n",
              " 'Shirt',\n",
              " 'Sneaker',\n",
              " 'Bag',\n",
              " 'Ankle boot']"
            ]
          },
          "metadata": {},
          "execution_count": 36
        }
      ]
    },
    {
      "cell_type": "code",
      "source": [
        "# getting ids for the different classes\n",
        "\n",
        "class_to_idx = train_data.class_to_idx\n",
        "class_to_idx"
      ],
      "metadata": {
        "colab": {
          "base_uri": "https://localhost:8080/"
        },
        "id": "YQzC8f7WMDaX",
        "outputId": "d22d6299-cb49-4bc3-aadb-82cc00f0bf48"
      },
      "execution_count": 37,
      "outputs": [
        {
          "output_type": "execute_result",
          "data": {
            "text/plain": [
              "{'Ankle boot': 9,\n",
              " 'Bag': 8,\n",
              " 'Coat': 4,\n",
              " 'Dress': 3,\n",
              " 'Pullover': 2,\n",
              " 'Sandal': 5,\n",
              " 'Shirt': 6,\n",
              " 'Sneaker': 7,\n",
              " 'T-shirt/top': 0,\n",
              " 'Trouser': 1}"
            ]
          },
          "metadata": {},
          "execution_count": 37
        }
      ]
    },
    {
      "cell_type": "code",
      "source": [
        "train_data.targets"
      ],
      "metadata": {
        "colab": {
          "base_uri": "https://localhost:8080/"
        },
        "id": "6adOPXkIMRkQ",
        "outputId": "d244b551-8961-4521-e73f-b6b7e280b6d4"
      },
      "execution_count": 38,
      "outputs": [
        {
          "output_type": "execute_result",
          "data": {
            "text/plain": [
              "tensor([9, 0, 0,  ..., 3, 0, 5])"
            ]
          },
          "metadata": {},
          "execution_count": 38
        }
      ]
    },
    {
      "cell_type": "code",
      "source": [
        "print(f\"Image shape: {image.shape} -> [color_channels, height, width]\")\n",
        "print(f\"Image label: {class_names[label]}\")\n",
        "\n",
        "# grayscale - so 1 color channel"
      ],
      "metadata": {
        "colab": {
          "base_uri": "https://localhost:8080/"
        },
        "id": "3IcWg5rvMoLW",
        "outputId": "db17bef7-ce55-4fd2-cf3f-c7c3a1207a2c"
      },
      "execution_count": 39,
      "outputs": [
        {
          "output_type": "stream",
          "name": "stdout",
          "text": [
            "Image shape: torch.Size([1, 28, 28]) -> [color_channels, height, width]\n",
            "Image label: Ankle boot\n"
          ]
        }
      ]
    },
    {
      "cell_type": "markdown",
      "source": [
        "## Visualize data as image"
      ],
      "metadata": {
        "id": "mchb-BsaNWpj"
      }
    },
    {
      "cell_type": "code",
      "source": [
        "plt.imshow(image.squeeze()) # matplotlib expects only the image W and H, so we get rid of the extra color dim\n",
        "# squeeze removes the unit dimension\n",
        "plt.title(label) # only 28 * 28 image so very pixelated looking\n",
        "plt.axis(False)"
      ],
      "metadata": {
        "colab": {
          "base_uri": "https://localhost:8080/",
          "height": 281
        },
        "id": "bRn0oIw2Nsp2",
        "outputId": "71d73dce-bf8e-43dc-b107-c708f8b98efe"
      },
      "execution_count": 40,
      "outputs": [
        {
          "output_type": "execute_result",
          "data": {
            "text/plain": [
              "(-0.5, 27.5, 27.5, -0.5)"
            ]
          },
          "metadata": {},
          "execution_count": 40
        },
        {
          "output_type": "display_data",
          "data": {
            "text/plain": [
              "<Figure size 432x288 with 1 Axes>"
            ],
            "image/png": "[encoded data removed]"
          },
          "metadata": {
            "needs_background": "light"
          }
        }
      ]
    },
    {
      "cell_type": "code",
      "source": [
        "plt.imshow(image.squeeze(), cmap='gray') # matplotlib expects only the image W and H, so we get rid of the extra color dim\n",
        "# squeeze removes the unit dimension\n",
        "plt.title(class_names[label]) # only 28 * 28 image so very pixelated looking"
      ],
      "metadata": {
        "colab": {
          "base_uri": "https://localhost:8080/",
          "height": 298
        },
        "id": "s5KCU4qtOgZn",
        "outputId": "157449d9-a070-4b4c-eae6-37f49534d82a"
      },
      "execution_count": 41,
      "outputs": [
        {
          "output_type": "execute_result",
          "data": {
            "text/plain": [
              "Text(0.5, 1.0, 'Ankle boot')"
            ]
          },
          "metadata": {},
          "execution_count": 41
        },
        {
          "output_type": "display_data",
          "data": {
            "text/plain": [
              "<Figure size 432x288 with 1 Axes>"
            ],
            "image/png": "[encoded data removed]"
          },
          "metadata": {
            "needs_background": "light"
          }
        }
      ]
    },
    {
      "cell_type": "code",
      "source": [
        "# Plotting 16 random images\n",
        "#torch.manual_seed(750)\n",
        "#fig=plt.figure(figsize=(9, 9))\n",
        "#rows, cols = 4, 4 # we are going to get 16 images\n",
        "#for i in range(1, rows*cols+1):\n",
        "  #print(i)\n",
        "#  random_idx = torch.randint(0, len(train_data), size=[1]).item()\n",
        "  #print(random_idx) # we get different images based on the  seed\n",
        "#  img, label=train_data[random_idx]\n",
        "#  fig.add_subplot(rows, cols, i)\n",
        "#  plt.imshow(img.squeeze(), cmap=\"gray\")\n",
        "#  plt.title(class_names[label])\n",
        "#  plt.axis(False)"
      ],
      "metadata": {
        "id": "MXPMvlDqOvcn"
      },
      "execution_count": 42,
      "outputs": []
    },
    {
      "cell_type": "code",
      "source": [
        "train_data, test_data"
      ],
      "metadata": {
        "colab": {
          "base_uri": "https://localhost:8080/"
        },
        "id": "pdbHYpJmRQvA",
        "outputId": "d908fa0a-478f-4df2-f32a-9319174d8773"
      },
      "execution_count": 43,
      "outputs": [
        {
          "output_type": "execute_result",
          "data": {
            "text/plain": [
              "(Dataset FashionMNIST\n",
              "     Number of datapoints: 60000\n",
              "     Root location: data\n",
              "     Split: Train\n",
              "     StandardTransform\n",
              " Transform: ToTensor(), Dataset FashionMNIST\n",
              "     Number of datapoints: 10000\n",
              "     Root location: data\n",
              "     Split: Test\n",
              "     StandardTransform\n",
              " Transform: ToTensor())"
            ]
          },
          "metadata": {},
          "execution_count": 43
        }
      ]
    },
    {
      "cell_type": "markdown",
      "source": [
        "## Prepare dataloader "
      ],
      "metadata": {
        "id": "1hYYv4YKRKpg"
      }
    },
    {
      "cell_type": "markdown",
      "source": [
        "## Dataloader to turn the dataset in python iterable\n",
        "\n",
        "### Turn data into batches or mini batches\n",
        "\n",
        "#### Lets us take for now mini batches of 32 each\n",
        "#### the optimizer will update per batch, So the training gets efficient. The batches will be shuffled.\n",
        "\n"
      ],
      "metadata": {
        "id": "kOsp9o6DRWK6"
      }
    },
    {
      "cell_type": "code",
      "source": [
        "from torch.utils.data import DataLoader # also goes for text and any other datatypes\n",
        "\n",
        "# set the hyperparam batch size\n",
        "BATCH_SIZE=32\n",
        "\n",
        "# Turn the dataset into iterable\n",
        "train_dataloader=DataLoader(train_data, batch_size=BATCH_SIZE, shuffle=True)\n",
        "\n",
        "test_dataloader=DataLoader(test_data, batch_size=BATCH_SIZE, shuffle=False)"
      ],
      "metadata": {
        "id": "xnlG_CKjRacg"
      },
      "execution_count": 44,
      "outputs": []
    },
    {
      "cell_type": "code",
      "source": [
        "train_dataloader, test_dataloader"
      ],
      "metadata": {
        "colab": {
          "base_uri": "https://localhost:8080/"
        },
        "id": "IPprVjd2TZzX",
        "outputId": "312d13f8-2745-41b3-a145-4da294d1bb9c"
      },
      "execution_count": 45,
      "outputs": [
        {
          "output_type": "execute_result",
          "data": {
            "text/plain": [
              "(<torch.utils.data.dataloader.DataLoader at 0x7fcb35a9e390>,\n",
              " <torch.utils.data.dataloader.DataLoader at 0x7fcb35a9e950>)"
            ]
          },
          "metadata": {},
          "execution_count": 45
        }
      ]
    },
    {
      "cell_type": "code",
      "source": [
        "print(f\"Data Loaders: \", train_dataloader, test_dataloader)\n",
        "print(f\"Train Dataloader:  {len(train_dataloader)} batches of  {BATCH_SIZE}\")\n",
        "print(f\"Test Dataloader: {len(test_dataloader)} batches of {BATCH_SIZE}\")"
      ],
      "metadata": {
        "colab": {
          "base_uri": "https://localhost:8080/"
        },
        "id": "9C4Z7or7Tfrg",
        "outputId": "64fb45ea-7129-46b4-ab47-f9a816cc64fd"
      },
      "execution_count": 46,
      "outputs": [
        {
          "output_type": "stream",
          "name": "stdout",
          "text": [
            "Data Loaders:  <torch.utils.data.dataloader.DataLoader object at 0x7fcb35a9e390> <torch.utils.data.dataloader.DataLoader object at 0x7fcb35a9e950>\n",
            "Train Dataloader:  1875 batches of  32\n",
            "Test Dataloader: 313 batches of 32\n"
          ]
        }
      ]
    },
    {
      "cell_type": "code",
      "source": [
        "# check inside the training dataloader\n",
        "train_features_batch, train_labels_batch = next(iter(train_dataloader))\n",
        "\n",
        "# train_features_batch will have the training images\n",
        "# train labels batch will have the image labels meaning what the features together indicate\n",
        "# iter will get the nextt batch in the iterator\n",
        "\n",
        "train_features_batch.shape, train_labels_batch.shape\n",
        "# torc.Size(batch_size, color_channel, height, width), torch.Size(BATCH_SIZE)"
      ],
      "metadata": {
        "colab": {
          "base_uri": "https://localhost:8080/"
        },
        "id": "o5j9vJ0JVCCH",
        "outputId": "bfd64b32-8101-4904-d126-bdf4595329f0"
      },
      "execution_count": 47,
      "outputs": [
        {
          "output_type": "execute_result",
          "data": {
            "text/plain": [
              "(torch.Size([32, 1, 28, 28]), torch.Size([32]))"
            ]
          },
          "metadata": {},
          "execution_count": 47
        }
      ]
    },
    {
      "cell_type": "code",
      "source": [
        "# Show sample\n",
        "#torch.manual_seed(999)\n",
        "random_idx= torch.randint(0, len(train_features_batch), size=[1]).item() # creating a random image from the train dataset\n",
        "img, label= train_features_batch[random_idx], train_labels_batch[random_idx] # getting the random image from the datasett and it particular label\n",
        "plt.imshow(img.squeeze(), cmap=\"gray\")\n",
        "plt.title(class_names[label])\n",
        "plt.axis=False\n",
        "print(f\"Image size: {img.shape}\")\n",
        "print(f\"Label: {label}, label_size: {label.shape}\")\n"
      ],
      "metadata": {
        "colab": {
          "base_uri": "https://localhost:8080/",
          "height": 316
        },
        "id": "S9VHOyH1Ux_k",
        "outputId": "4aecd074-3838-4f0f-aae6-5b243e711f65"
      },
      "execution_count": 48,
      "outputs": [
        {
          "output_type": "stream",
          "name": "stdout",
          "text": [
            "Image size: torch.Size([1, 28, 28])\n",
            "Label: 3, label_size: torch.Size([])\n"
          ]
        },
        {
          "output_type": "display_data",
          "data": {
            "text/plain": [
              "<Figure size 432x288 with 1 Axes>"
            ],
            "image/png": "[encoded data removed]"
          },
          "metadata": {
            "needs_background": "light"
          }
        }
      ]
    },
    {
      "cell_type": "markdown",
      "source": [
        "## Build a baseline model\n",
        "\n",
        "Baseline model can be inproved later with experimentation"
      ],
      "metadata": {
        "id": "b4EYuTtctmnN"
      }
    },
    {
      "cell_type": "code",
      "source": [
        "## Creating a FC flatten layer \n",
        "\n",
        "flatten_model = nn.Flatten()\n",
        "\n",
        "# taking one feature into a different variable\n",
        "x = train_features_batch[0]\n",
        "\n",
        "# flattening the input\n",
        "output = flatten_model(x)\n",
        "\n",
        "# printing the shape of the first tensor [0] before and after flatteing\n",
        "print(f\"Shape before flattening: {x.shape}, -> [color_channel, height, width]\")\n",
        "print(f\"Shape after flatteing: {output.shape}, -> [color_channel, height*width]\")"
      ],
      "metadata": {
        "colab": {
          "base_uri": "https://localhost:8080/"
        },
        "id": "_vc6yxiCuvbB",
        "outputId": "59469666-1013-4ff5-a4c2-7eb4f3ad929b"
      },
      "execution_count": 49,
      "outputs": [
        {
          "output_type": "stream",
          "name": "stdout",
          "text": [
            "Shape before flattening: torch.Size([1, 28, 28]), -> [color_channel, height, width]\n",
            "Shape after flatteing: torch.Size([1, 784]), -> [color_channel, height*width]\n"
          ]
        }
      ]
    },
    {
      "cell_type": "code",
      "source": [
        "output # condense information into a single vector"
      ],
      "metadata": {
        "colab": {
          "base_uri": "https://localhost:8080/"
        },
        "id": "egOgOnVnwjD7",
        "outputId": "7d3a4b30-1beb-4138-b290-f4f694d99fd8"
      },
      "execution_count": 50,
      "outputs": [
        {
          "output_type": "execute_result",
          "data": {
            "text/plain": [
              "tensor([[0.0000, 0.0000, 0.0000, 0.3529, 0.8235, 0.6392, 0.8588, 0.8353, 0.7490,\n",
              "         0.7098, 0.6902, 0.6902, 0.6902, 0.6745, 0.6471, 0.6510, 0.6471, 0.6431,\n",
              "         0.6157, 0.6392, 0.5804, 0.7216, 0.6784, 0.6471, 0.5647, 0.0000, 0.0000,\n",
              "         0.0000, 0.0000, 0.0000, 0.0000, 0.7686, 0.5059, 0.0000, 0.1569, 0.9882,\n",
              "         0.8980, 0.8667, 0.8784, 0.8745, 0.8706, 0.9098, 0.9255, 0.9216, 0.8745,\n",
              "         0.8706, 0.8745, 0.8667, 0.9098, 0.9569, 0.2000, 0.2000, 0.7961, 0.4902,\n",
              "         0.0000, 0.0039, 0.0000, 0.0000, 0.0000, 0.6706, 0.0039, 0.0000, 0.0000,\n",
              "         0.6000, 0.8667, 0.8392, 0.8627, 0.8627, 0.8667, 0.8627, 0.8510, 0.8549,\n",
              "         0.8510, 0.8510, 0.8510, 0.8353, 0.8431, 0.3137, 0.0039, 0.0000, 0.3569,\n",
              "         0.5529, 0.0000, 0.0000, 0.0000, 0.0000, 0.0000, 0.7137, 0.3765, 0.3333,\n",
              "         0.6784, 0.6549, 0.5804, 0.6902, 0.7333, 0.7529, 0.7843, 0.8078, 0.8314,\n",
              "         0.8157, 0.8000, 0.7882, 0.7373, 0.6667, 0.7020, 0.6118, 0.4510, 0.0000,\n",
              "         0.6627, 0.6157, 0.0000, 0.0000, 0.0000, 0.0000, 0.0902, 0.6627, 0.6196,\n",
              "         0.4863, 0.5333, 0.5843, 0.5176, 0.5529, 0.5255, 0.5137, 0.4980, 0.4902,\n",
              "         0.4941, 0.5020, 0.5137, 0.5216, 0.5647, 0.6157, 0.7216, 0.7333, 0.5412,\n",
              "         0.4667, 0.6706, 0.6118, 0.0000, 0.0000, 0.0000, 0.0000, 0.5294, 0.7216,\n",
              "         0.6471, 0.5255, 0.4980, 0.4392, 0.4392, 0.4275, 0.4275, 0.4196, 0.3961,\n",
              "         0.3922, 0.3843, 0.3804, 0.3804, 0.3725, 0.3569, 0.3882, 0.3529, 0.3569,\n",
              "         0.4314, 0.4549, 0.5490, 0.5843, 0.0000, 0.0000, 0.0000, 0.1804, 0.8471,\n",
              "         0.8000, 0.8314, 0.8667, 0.8706, 0.8588, 0.8706, 0.8235, 0.8235, 0.8157,\n",
              "         0.8078, 0.7961, 0.7843, 0.7804, 0.7725, 0.7725, 0.7608, 0.7804, 0.7647,\n",
              "         0.7882, 0.7412, 0.7529, 0.7765, 0.7216, 0.8157, 0.0157, 0.0000, 0.1412,\n",
              "         0.8431, 0.8235, 0.8196, 0.8235, 0.8235, 0.8235, 0.8157, 0.8275, 0.8314,\n",
              "         0.8353, 0.8392, 0.8392, 0.8392, 0.8431, 0.8510, 0.8510, 0.8667, 0.8588,\n",
              "         0.8549, 0.8549, 0.8471, 0.8235, 0.8431, 0.8196, 0.8745, 0.0431, 0.0000,\n",
              "         0.1765, 0.8667, 0.8235, 0.8235, 0.8314, 0.8275, 0.8275, 0.8235, 0.8275,\n",
              "         0.8275, 0.8275, 0.8235, 0.8314, 0.8431, 0.8431, 0.8431, 0.8471, 0.8510,\n",
              "         0.8510, 0.8471, 0.8510, 0.8431, 0.8392, 0.8588, 0.8353, 0.8667, 0.0745,\n",
              "         0.0000, 0.2863, 1.0000, 0.8196, 0.8275, 0.8353, 0.8353, 0.8392, 0.8392,\n",
              "         0.8392, 0.8392, 0.8392, 0.8392, 0.8431, 0.8471, 0.8510, 0.8510, 0.8549,\n",
              "         0.8510, 0.8510, 0.8510, 0.8549, 0.8549, 0.8627, 0.8706, 0.8431, 0.8941,\n",
              "         0.1686, 0.0000, 0.3725, 1.0000, 0.8118, 0.8275, 0.8392, 0.8353, 0.8392,\n",
              "         0.8392, 0.8471, 0.8471, 0.8471, 0.8471, 0.8510, 0.8510, 0.8549, 0.8588,\n",
              "         0.8588, 0.8549, 0.8588, 0.8588, 0.8667, 0.8588, 0.8667, 0.8824, 0.8431,\n",
              "         1.0000, 0.2314, 0.0000, 0.5333, 0.9725, 0.7922, 0.8431, 0.8275, 0.8353,\n",
              "         0.8392, 0.8392, 0.8549, 0.8588, 0.8549, 0.8549, 0.8549, 0.8549, 0.8588,\n",
              "         0.8549, 0.8549, 0.8549, 0.8549, 0.8588, 0.8588, 0.8667, 0.8706, 0.8824,\n",
              "         0.8510, 1.0000, 0.3569, 0.0000, 0.6157, 0.9451, 0.8078, 0.8353, 0.8314,\n",
              "         0.8353, 0.8392, 0.8431, 0.8549, 0.8549, 0.8549, 0.8549, 0.8549, 0.8549,\n",
              "         0.8549, 0.8549, 0.8549, 0.8588, 0.8588, 0.8627, 0.8627, 0.8706, 0.8706,\n",
              "         0.8784, 0.8549, 1.0000, 0.4588, 0.0000, 0.6784, 0.9333, 0.8157, 0.8235,\n",
              "         0.8392, 0.8353, 0.8431, 0.8471, 0.8549, 0.8549, 0.8549, 0.8549, 0.8549,\n",
              "         0.8549, 0.8549, 0.8549, 0.8549, 0.8588, 0.8627, 0.8627, 0.8667, 0.8706,\n",
              "         0.8706, 0.8824, 0.8392, 0.9725, 0.5725, 0.0000, 0.7059, 0.9059, 0.8235,\n",
              "         0.8314, 0.8392, 0.8431, 0.8471, 0.8510, 0.8588, 0.8549, 0.8549, 0.8588,\n",
              "         0.8549, 0.8549, 0.8549, 0.8549, 0.8510, 0.8627, 0.8627, 0.8667, 0.8706,\n",
              "         0.8706, 0.8706, 0.8824, 0.8471, 0.9412, 0.6431, 0.0000, 0.6941, 0.9098,\n",
              "         0.8196, 0.8392, 0.8392, 0.8392, 0.8471, 0.8510, 0.8431, 0.8588, 0.8627,\n",
              "         0.8471, 0.8627, 0.8549, 0.8510, 0.8549, 0.8549, 0.8627, 0.8667, 0.8667,\n",
              "         0.8667, 0.8745, 0.8706, 0.8784, 0.8431, 0.9333, 0.6863, 0.0000, 0.6431,\n",
              "         0.9373, 0.8078, 0.8235, 0.8431, 0.8392, 0.8431, 0.8431, 0.8392, 0.8471,\n",
              "         0.8471, 0.8431, 0.8510, 0.8314, 0.8627, 0.8706, 0.8627, 0.8667, 0.8588,\n",
              "         0.8627, 0.8588, 0.8627, 0.8667, 0.8784, 0.8235, 0.9569, 0.6549, 0.0000,\n",
              "         0.5373, 0.8941, 0.8196, 0.8196, 0.8471, 0.8392, 0.8431, 0.8392, 0.8510,\n",
              "         0.8510, 0.8471, 0.8431, 0.8627, 0.8980, 0.8588, 0.8549, 0.8667, 0.8588,\n",
              "         0.8588, 0.8588, 0.8588, 0.8549, 0.8627, 0.8902, 0.8392, 0.9176, 0.5216,\n",
              "         0.0000, 0.3020, 0.9098, 0.8196, 0.8392, 0.8431, 0.8392, 0.8431, 0.8431,\n",
              "         0.8510, 0.8471, 0.8353, 0.9176, 0.7725, 0.6627, 0.9176, 0.8588, 0.8510,\n",
              "         0.8588, 0.8549, 0.8549, 0.8588, 0.8510, 0.8627, 0.8745, 0.8392, 0.9176,\n",
              "         0.3333, 0.0000, 0.0902, 0.8706, 0.8353, 0.8510, 0.8353, 0.8392, 0.8431,\n",
              "         0.8431, 0.8353, 0.8235, 0.8745, 0.8157, 0.4941, 0.6157, 0.7569, 0.9059,\n",
              "         0.8275, 0.8588, 0.8549, 0.8549, 0.8549, 0.8588, 0.8706, 0.8510, 0.8471,\n",
              "         0.8745, 0.0471, 0.0000, 0.0000, 0.8706, 0.8706, 0.8510, 0.8275, 0.8275,\n",
              "         0.8353, 0.8431, 0.8392, 0.8275, 0.8745, 0.7922, 0.4549, 0.4706, 0.6824,\n",
              "         0.9373, 0.8353, 0.8549, 0.8588, 0.8549, 0.8510, 0.8588, 0.8706, 0.8353,\n",
              "         0.8941, 0.8275, 0.0000, 0.0000, 0.0000, 0.4235, 0.9098, 0.8196, 0.8431,\n",
              "         0.8353, 0.8314, 0.8353, 0.8471, 0.8078, 0.8549, 0.8314, 0.4431, 0.3686,\n",
              "         0.8314, 0.8784, 0.8353, 0.8627, 0.8471, 0.8392, 0.8392, 0.8471, 0.8588,\n",
              "         0.8118, 0.9451, 0.2196, 0.0000, 0.0000, 0.0000, 0.0000, 0.7451, 0.8745,\n",
              "         0.8353, 0.8471, 0.8392, 0.8275, 0.8392, 0.8235, 0.8431, 0.7529, 0.5765,\n",
              "         0.5608, 0.7098, 0.8745, 0.8157, 0.8471, 0.8235, 0.8353, 0.8588, 0.8588,\n",
              "         0.8118, 0.9333, 0.6314, 0.0000, 0.0000, 0.0000, 0.0000, 0.0000, 0.2471,\n",
              "         0.8275, 0.8549, 0.8353, 0.8431, 0.8392, 0.8471, 0.8118, 0.8275, 0.8627,\n",
              "         0.9020, 0.9020, 0.8667, 0.8196, 0.8275, 0.8275, 0.8588, 0.8627, 0.8588,\n",
              "         0.8353, 0.9098, 0.7647, 0.0000, 0.0000, 0.0000, 0.0000, 0.0039, 0.0000,\n",
              "         0.0000, 0.3961, 0.7882, 0.8627, 0.8471, 0.8353, 0.8392, 0.8471, 0.8314,\n",
              "         0.8353, 0.8235, 0.8235, 0.8627, 0.8431, 0.8549, 0.8510, 0.8353, 0.8510,\n",
              "         0.8706, 0.9216, 0.7255, 0.0000, 0.0000, 0.0000, 0.0000, 0.0000, 0.0039,\n",
              "         0.0000, 0.0000, 0.3333, 0.5373, 0.7333, 0.8980, 0.9176, 0.9020, 0.9059,\n",
              "         0.9098, 0.9176, 0.9216, 0.9098, 0.8902, 0.8824, 0.8784, 0.8980, 0.9216,\n",
              "         0.9294, 0.8078, 0.5373, 0.0000, 0.0000, 0.0000, 0.0000, 0.0000, 0.0000,\n",
              "         0.0039, 0.0000, 0.0392, 0.3255, 0.3216, 0.3529, 0.4784, 0.5294, 0.6353,\n",
              "         0.6745, 0.7294, 0.7529, 0.7490, 0.6157, 0.7451, 0.7765, 0.7412, 0.7843,\n",
              "         0.6078, 0.3020, 0.0000, 0.0000, 0.0000, 0.0000, 0.0000, 0.0000, 0.0000,\n",
              "         0.0000, 0.0000, 0.0000, 0.0000, 0.0000, 0.0000, 0.0000, 0.0000, 0.0000,\n",
              "         0.0000, 0.0000, 0.0000, 0.0000, 0.0000, 0.0000, 0.0000, 0.0000, 0.0000,\n",
              "         0.0000, 0.0000, 0.0000, 0.0000, 0.0275, 0.0000, 0.0000, 0.0000, 0.0000,\n",
              "         0.0000]])"
            ]
          },
          "metadata": {},
          "execution_count": 50
        }
      ]
    },
    {
      "cell_type": "code",
      "source": [
        "from torch import nn\n",
        "class FashionMNISTModelV0(nn.Module):\n",
        "  def __init__(self, \n",
        "               input_shape: int, \n",
        "               hidden_units: int, \n",
        "               output_shape: int):\n",
        "    super().__init__()\n",
        "    self.layer_stack = nn.Sequential(\n",
        "        nn.Flatten(), \n",
        "        nn.Linear(in_features=input_shape, \n",
        "                  out_features=hidden_units),\n",
        "        nn.Linear(in_features=hidden_units,\n",
        "                  out_features=output_shape)\n",
        "    )\n",
        "\n",
        "  def forward(self, x):\n",
        "    return self.layer_stack(x)"
      ],
      "metadata": {
        "id": "93RHRgnQybf-"
      },
      "execution_count": 51,
      "outputs": []
    },
    {
      "cell_type": "code",
      "source": [
        "torch.manual_seed(42)\n",
        "\n",
        "## setup model with input params\n",
        "model_0=FashionMNISTModelV0(\n",
        "    input_shape=784,\n",
        "    hidden_units=10, ## how many hidden units for the hidden layer\n",
        "    output_shape=len(class_names) # one for every class\n",
        ")\n",
        "\n",
        "model_0.to(\"cpu\") ## very important line - to keep the model on cpu top run"
      ],
      "metadata": {
        "colab": {
          "base_uri": "https://localhost:8080/"
        },
        "id": "6q6f2bQzzhRf",
        "outputId": "8f2ff0c7-edce-4430-d2db-1412f1a556ad"
      },
      "execution_count": 52,
      "outputs": [
        {
          "output_type": "execute_result",
          "data": {
            "text/plain": [
              "FashionMNISTModelV0(\n",
              "  (layer_stack): Sequential(\n",
              "    (0): Flatten(start_dim=1, end_dim=-1)\n",
              "    (1): Linear(in_features=784, out_features=10, bias=True)\n",
              "    (2): Linear(in_features=10, out_features=10, bias=True)\n",
              "  )\n",
              ")"
            ]
          },
          "metadata": {},
          "execution_count": 52
        }
      ]
    },
    {
      "cell_type": "code",
      "source": [
        "dummy_x=torch.rand([1, 1, 28, 28])\n",
        "model_0(dummy_x)\n",
        "\n",
        "# also check what input shape certain layers expect"
      ],
      "metadata": {
        "colab": {
          "base_uri": "https://localhost:8080/"
        },
        "id": "DmoleLdD0jFH",
        "outputId": "c86aa372-e692-4cd2-cfdd-1d38c9114ae5"
      },
      "execution_count": 53,
      "outputs": [
        {
          "output_type": "execute_result",
          "data": {
            "text/plain": [
              "tensor([[-0.0315,  0.3171,  0.0531, -0.2525,  0.5959,  0.2112,  0.3233,  0.2694,\n",
              "         -0.1004,  0.0157]], grad_fn=<AddmmBackward0>)"
            ]
          },
          "metadata": {},
          "execution_count": 53
        }
      ]
    },
    {
      "cell_type": "code",
      "source": [
        "model_0.state_dict()"
      ],
      "metadata": {
        "colab": {
          "base_uri": "https://localhost:8080/"
        },
        "id": "NZeJhmqlxxG1",
        "outputId": "3c9f740d-bf60-44af-eb99-57aec4c61569"
      },
      "execution_count": 54,
      "outputs": [
        {
          "output_type": "execute_result",
          "data": {
            "text/plain": [
              "OrderedDict([('layer_stack.1.weight',\n",
              "              tensor([[ 0.0273,  0.0296, -0.0084,  ..., -0.0142,  0.0093,  0.0135],\n",
              "                      [-0.0188, -0.0354,  0.0187,  ..., -0.0106, -0.0001,  0.0115],\n",
              "                      [-0.0008,  0.0017,  0.0045,  ..., -0.0127, -0.0188,  0.0059],\n",
              "                      ...,\n",
              "                      [-0.0116,  0.0273, -0.0344,  ...,  0.0176,  0.0283, -0.0011],\n",
              "                      [-0.0230,  0.0257,  0.0291,  ..., -0.0187, -0.0087,  0.0001],\n",
              "                      [ 0.0176, -0.0147,  0.0053,  ..., -0.0336, -0.0221,  0.0205]])),\n",
              "             ('layer_stack.1.bias',\n",
              "              tensor([-0.0093,  0.0283, -0.0033,  0.0255,  0.0017,  0.0037, -0.0302, -0.0123,\n",
              "                       0.0018,  0.0163])),\n",
              "             ('layer_stack.2.weight',\n",
              "              tensor([[ 0.0614, -0.0687,  0.0021,  0.2718,  0.2109,  0.1079, -0.2279, -0.1063,\n",
              "                        0.2019,  0.2847],\n",
              "                      [-0.1495,  0.1344, -0.0740,  0.2006, -0.0475, -0.2514, -0.3130, -0.0118,\n",
              "                        0.0932, -0.1864],\n",
              "                      [ 0.2488,  0.1500,  0.1907,  0.1457, -0.3050, -0.0580,  0.1643,  0.1565,\n",
              "                       -0.2877, -0.1792],\n",
              "                      [ 0.2305, -0.2618,  0.2397, -0.0610,  0.0232,  0.1542,  0.0851, -0.2027,\n",
              "                        0.1030, -0.2715],\n",
              "                      [-0.1596, -0.0555, -0.0633,  0.2302, -0.1726,  0.2654,  0.1473,  0.1029,\n",
              "                        0.2252, -0.2160],\n",
              "                      [-0.2725,  0.0118,  0.1559,  0.1596,  0.0132,  0.3024,  0.1124,  0.1366,\n",
              "                       -0.1533,  0.0965],\n",
              "                      [-0.1184, -0.2555, -0.2057, -0.1909, -0.0477, -0.1324,  0.2905,  0.1307,\n",
              "                       -0.2629,  0.0133],\n",
              "                      [ 0.2727, -0.0127,  0.0513,  0.0863, -0.1043, -0.2047, -0.1185, -0.0825,\n",
              "                        0.2488, -0.2571],\n",
              "                      [ 0.0425, -0.1209, -0.0336, -0.0281, -0.1227,  0.0730,  0.0747, -0.1816,\n",
              "                        0.1943,  0.2853],\n",
              "                      [-0.1310,  0.0645, -0.1171,  0.2168, -0.0245, -0.2820,  0.0736,  0.2621,\n",
              "                        0.0012, -0.0810]])),\n",
              "             ('layer_stack.2.bias',\n",
              "              tensor([-0.0087,  0.1791,  0.2712, -0.0791,  0.1685,  0.1762,  0.2825,  0.2266,\n",
              "                      -0.2612, -0.2613]))])"
            ]
          },
          "metadata": {},
          "execution_count": 54
        }
      ]
    },
    {
      "cell_type": "markdown",
      "source": [
        "## Set up loss optimizer and evaluation matrix\n",
        "\n",
        "### Loss function here - cross entropy loss\n",
        "### Optimizer - stochastic gradient descent"
      ],
      "metadata": {
        "id": "HRym6gbTyFs7"
      }
    },
    {
      "cell_type": "code",
      "source": [
        "# Calculate accuracy (a classification metric)\n",
        "#   \"\"\"Calculates accuracy between truth labels and predictions.\n",
        "#    Args:\n",
        "#        y_true (torch.Tensor): Truth labels for predictions.\n",
        "#        y_pred (torch.Tensor): Predictions to be compared to predictions.\n",
        "#    Returns:\n",
        "#        [torch.float]: Accuracy value between y_true and y_pred, e.g. 78.45\n",
        "#    \"\"\"\n",
        "#    correct = torch.eq(y_true, y_pred).sum().item()\n",
        "#    acc = (correct / len(y_pred)) * 100\n",
        "#    return acc"
      ],
      "metadata": {
        "id": "SDxFpUkTyVwD"
      },
      "execution_count": 55,
      "outputs": []
    },
    {
      "cell_type": "code",
      "source": [
        "# to get the github help function \n",
        "import requests\n",
        "from pathlib import Path\n",
        "\n",
        "# Download the helper function from learn PyTorch repo\n",
        "if Path(\"helper_functions.py\").is_file():\n",
        "  print(\"helper_functions already exits, skipping download... ... ..\")\n",
        "else:\n",
        "  print(\"Downloading helper_functions.py from PyTorch repo ...\")\n",
        "  request = requests.get(\"https://raw.githubusercontent.com/mrdbourke/pytorch-deep-learning/main/helper_functions.py\")\n",
        "  with open(\"helper_functions.py\", \"wb\") as f:\n",
        "    f.write(request.content)"
      ],
      "metadata": {
        "colab": {
          "base_uri": "https://localhost:8080/"
        },
        "id": "LDGU4nm1zpT2",
        "outputId": "c50c7683-7ff4-4516-a51d-1b51c3b83952"
      },
      "execution_count": 56,
      "outputs": [
        {
          "output_type": "stream",
          "name": "stdout",
          "text": [
            "helper_functions already exits, skipping download... ... ..\n"
          ]
        }
      ]
    },
    {
      "cell_type": "markdown",
      "source": [
        "## Import accuracy metrics"
      ],
      "metadata": {
        "id": "G4ED5B6f0uD1"
      }
    },
    {
      "cell_type": "code",
      "source": [
        "# import accuracy metrics\n",
        "from helper_functions import accuracy_fn\n",
        "\n",
        "# setup loss function and optimzer\n",
        "loss_fn = nn.CrossEntropyLoss()\n",
        "optimizer = torch.optim.SGD(params=model_0.parameters(), \n",
        "                            lr=0.1)"
      ],
      "metadata": {
        "id": "31Udd4900way"
      },
      "execution_count": 57,
      "outputs": []
    },
    {
      "cell_type": "markdown",
      "source": [
        "## Creating a function to time our experiment"
      ],
      "metadata": {
        "id": "eck779b217VW"
      }
    },
    {
      "cell_type": "code",
      "source": [
        "from timeit import default_timer as timer\n",
        "\n",
        "def print_train_time(start: float, end: float, device: torch.device = None):\n",
        "  \"\"\"Time required to train the network\"\"\"\n",
        "  total_time = end - start\n",
        "  print(f\"training time taken on {device}: {total_time:.3f} seconds\")\n",
        "  return total_time"
      ],
      "metadata": {
        "id": "RjCq41Ty2E1W"
      },
      "execution_count": 58,
      "outputs": []
    },
    {
      "cell_type": "code",
      "source": [
        "# let us check the timer function\n",
        "\n",
        "start_time = timer()\n",
        "# we will put some modelling function code here\n",
        "end_time = timer()\n",
        "print_train_time(start_time, end_time, device='cpu')"
      ],
      "metadata": {
        "colab": {
          "base_uri": "https://localhost:8080/"
        },
        "id": "VTFAxhbW3ZZt",
        "outputId": "46328561-34be-499e-de1f-225eb2cde5f4"
      },
      "execution_count": 59,
      "outputs": [
        {
          "output_type": "stream",
          "name": "stdout",
          "text": [
            "training time taken on cpu: 0.000 seconds\n"
          ]
        },
        {
          "output_type": "execute_result",
          "data": {
            "text/plain": [
              "2.7042000056098914e-05"
            ]
          },
          "metadata": {},
          "execution_count": 59
        }
      ]
    },
    {
      "cell_type": "markdown",
      "source": [
        "## Creating a training loop\n",
        "\n",
        "### 1. Loop through epochs.\n",
        "### 2. Loop through training batches, perform training steps, calculate the train loss *per batch*\n",
        "\n",
        "### 3. Loop through testing batches, perform testing steps, calculate the test loss per batch\n",
        "### 4. Time it all"
      ],
      "metadata": {
        "id": "O3uoG1br3ww1"
      }
    },
    {
      "cell_type": "code",
      "source": [
        "# use tqdm software to check how many epochs our training loop has gone through for the progress bar\n",
        "\n",
        "from tqdm.auto import tqdm\n",
        "\n",
        "# set the seed and start the timer\n",
        "torch.manual_seed(42)\n",
        "train_time_start_on_cpu = timer() # timer started before beginning the training\n",
        "\n",
        "# set the number of epochs (we are keeping this small for faster training)\n",
        "epochs = 3\n",
        "\n",
        "# Training\n",
        "for epoch in tqdm(range(epochs)): # to view our progress per epoch\n",
        "  train_loss = 0\n",
        "  print(f\"epoch number = {epoch}\")\n",
        "  # Running through the training dataset to train our model\n",
        "  for batch, (X, y) in enumerate(train_dataloader):\n",
        "    model_0.train()\n",
        "    \n",
        "    # forward pass\n",
        "    y_pred=model_0(X)\n",
        "\n",
        "    # calculate the loss per batch\n",
        "    loss = loss_fn(y_pred, y) # expected to be quite high as it has loss of all the batches\n",
        "    train_loss += loss # aggregate the losses of all the batches together\n",
        "\n",
        "    # 3. Optimizer zero grad\n",
        "    optimizer.zero_grad()\n",
        "\n",
        "    # 4. Loss backward\n",
        "    loss.backward()\n",
        "\n",
        "    # 5. Optimizer step\n",
        "    optimizer.step()\n",
        "\n",
        "    # check out the train accuracy\n",
        "    # train_acc+=accuracy_fn(X, )\n",
        "\n",
        "    # lets now check out by printing what happened\n",
        "    if batch%400==0:\n",
        "       print(f\"Gone through {batch * len(X)}/{len(train_dataloader.dataset)} samples\")\n",
        "\n",
        "  # let us find the average loss for each batch\n",
        "  train_loss /= len(train_dataloader)\n",
        "\n",
        "  # Testing\n",
        "  test_loss, test_acc=0, 0\n",
        "  model_0.eval()\n",
        "\n",
        "  with torch.inference_mode():\n",
        "    for X, y in test_dataloader:\n",
        "    \n",
        "      # Forward pass\n",
        "      test_pred = model_0(X)\n",
        "\n",
        "      # calculate loss\n",
        "      test_loss += loss_fn(test_pred, y) # calculating together for all the batches\n",
        "\n",
        "      # calculating accuracy\n",
        "      test_acc+=accuracy_fn(y_true=y, y_pred=test_pred.argmax(dim=1)) # comparing the labels so the columns need to be equal sized\n",
        "      ## the true label is the given one the dataset\n",
        "      # the argmax finds the highest value index for the prediction label\n",
        "  \n",
        "      # calculating the average test loss per batch\n",
        "    test_loss /= len(test_dataloader)\n",
        "\n",
        "      # calculating the average test accuarcy per batch\n",
        "    test_acc /= len(test_dataloader)\n",
        "\n",
        "  # let us check out whats happening\n",
        "  print(f\"\\n Train loss = {train_loss:.2f} | Test loss = {test_loss:.2f} | Test accuracy = {test_acc:.2f}%\\n\")\n",
        "\n",
        "# calculate the training time to check how long the model is taking to train on CPU\n",
        "train_time_end_on_cpu = timer()\n",
        "total_train_time_model_0 = print_train_time(start=train_time_start_on_cpu,\n",
        "                                 end=train_time_end_on_cpu,\n",
        "                                 device=str(next(model_0.parameters()).device))\n"
      ],
      "metadata": {
        "colab": {
          "base_uri": "https://localhost:8080/",
          "height": 535,
          "referenced_widgets": [
            "9fc21750d1344037a32698a92d798c24",
            "5c10d46c971742fcad30c6aa259267c6",
            "39c2553a756142d4805a0dc08b8a7e50",
            "ae49cdde86ac4aadaa80b0ccc369eb93",
            "15c8017b974e482dbc04181ec203e788",
            "bd4d105376ce4f889e89426f5b00c7d9",
            "9f8b2d9291124863a8fb91e94fdd3656",
            "e16e0a49d68649349b3132722f3836df",
            "955433c69b55418b8cce94f8206f8c0d",
            "7ecc486eb10e4ef2aef64394517708a3",
            "560e6e278a194cc59a3467545db0c1b5"
          ]
        },
        "id": "QBQtF24e4QIS",
        "outputId": "3770c0ba-00fb-44ab-b8c3-96d5b994dfd7"
      },
      "execution_count": 60,
      "outputs": [
        {
          "output_type": "display_data",
          "data": {
            "text/plain": [
              "  0%|          | 0/3 [00:00<?, ?it/s]"
            ],
            "application/vnd.jupyter.widget-view+json": {
              "version_major": 2,
              "version_minor": 0,
              "model_id": "9fc21750d1344037a32698a92d798c24"
            }
          },
          "metadata": {}
        },
        {
          "output_type": "stream",
          "name": "stdout",
          "text": [
            "epoch number = 0\n",
            "Gone through 0/60000 samples\n",
            "Gone through 12800/60000 samples\n",
            "Gone through 25600/60000 samples\n",
            "Gone through 38400/60000 samples\n",
            "Gone through 51200/60000 samples\n",
            "\n",
            " Train loss = 0.59 | Test loss = 0.51 | Test accuracy = 82.04%\n",
            "\n",
            "epoch number = 1\n",
            "Gone through 0/60000 samples\n",
            "Gone through 12800/60000 samples\n",
            "Gone through 25600/60000 samples\n",
            "Gone through 38400/60000 samples\n",
            "Gone through 51200/60000 samples\n",
            "\n",
            " Train loss = 0.48 | Test loss = 0.48 | Test accuracy = 83.20%\n",
            "\n",
            "epoch number = 2\n",
            "Gone through 0/60000 samples\n",
            "Gone through 12800/60000 samples\n",
            "Gone through 25600/60000 samples\n",
            "Gone through 38400/60000 samples\n",
            "Gone through 51200/60000 samples\n",
            "\n",
            " Train loss = 0.46 | Test loss = 0.48 | Test accuracy = 83.43%\n",
            "\n",
            "training time taken on cpu: 31.032 seconds\n"
          ]
        }
      ]
    },
    {
      "cell_type": "code",
      "source": [
        "str(next(model_0.parameters()).device)"
      ],
      "metadata": {
        "colab": {
          "base_uri": "https://localhost:8080/",
          "height": 35
        },
        "id": "-5xmx5O3F3k9",
        "outputId": "5a54aa24-1c04-4ca0-c0a3-6afacaa1b1b0"
      },
      "execution_count": 61,
      "outputs": [
        {
          "output_type": "execute_result",
          "data": {
            "text/plain": [
              "'cpu'"
            ],
            "application/vnd.google.colaboratory.intrinsic+json": {
              "type": "string"
            }
          },
          "metadata": {},
          "execution_count": 61
        }
      ]
    },
    {
      "cell_type": "markdown",
      "source": [
        "## Creating a custom function to evaluate our model"
      ],
      "metadata": {
        "id": "P0X2F1XE8_My"
      }
    },
    {
      "cell_type": "code",
      "source": [
        "torch.manual_seed(42)\n",
        "\n",
        "def eval_model(model: torch.nn.Module,\n",
        "               data_loader: torch.utils.data.DataLoader,\n",
        "               loss_fn: torch.nn.Module,\n",
        "               accuracy_fn):\n",
        "  \"\"\"Returns a dictionary with the model name and performance\"\"\"\n",
        "  loss, acc = 0, 0\n",
        "  model.eval()\n",
        "  with torch.inference_mode():\n",
        "    for X, y in data_loader:\n",
        "      # Make predictions first\n",
        "      y_pred = model(X)\n",
        "\n",
        "\n",
        "      # agggregate the loss and accuracy functions\n",
        "      loss+=loss_fn(y_pred, y)\n",
        "      acc+=accuracy_fn(y_true=y, y_pred=y_pred.argmax(dim=1))\n",
        "\n",
        "      # find the loss and acc per batch\n",
        "      loss/=len(data_loader)\n",
        "      acc/=len(data_loader)\n",
        "\n",
        "    return {\"model_name\": model.__class__.__name__, # only works when model was created with a class\n",
        "            \"model_loss\": loss.item(),\n",
        "            \"model_acc\": acc}\n",
        "\n",
        "# passing model_0 for evaluation\n",
        "model_0_results = eval_model(model=model_0, data_loader=test_dataloader, loss_fn=loss_fn, accuracy_fn=accuracy_fn)\n",
        "model_0_results"
      ],
      "metadata": {
        "colab": {
          "base_uri": "https://localhost:8080/"
        },
        "id": "iHGrH-YI0uSX",
        "outputId": "ee5d4e5d-483a-406a-e76c-5a9b6a0cac5f"
      },
      "execution_count": 62,
      "outputs": [
        {
          "output_type": "execute_result",
          "data": {
            "text/plain": [
              "{'model_acc': 0.30028917735831345,\n",
              " 'model_loss': 0.0010611428879201412,\n",
              " 'model_name': 'FashionMNISTModelV0'}"
            ]
          },
          "metadata": {},
          "execution_count": 62
        }
      ]
    },
    {
      "cell_type": "markdown",
      "source": [
        "## Setup the device agnostic code to use a GPU\n"
      ],
      "metadata": {
        "id": "-wX-ei9h_eAo"
      }
    },
    {
      "cell_type": "code",
      "source": [
        "!nvidia-smi"
      ],
      "metadata": {
        "colab": {
          "base_uri": "https://localhost:8080/"
        },
        "id": "JH_V8c85_jkX",
        "outputId": "949f2f6c-fa6f-4a07-c857-27dd3050ca4f"
      },
      "execution_count": 63,
      "outputs": [
        {
          "output_type": "stream",
          "name": "stdout",
          "text": [
            "Thu Aug 11 13:34:34 2022       \n",
            "+-----------------------------------------------------------------------------+\n",
            "| NVIDIA-SMI 460.32.03    Driver Version: 460.32.03    CUDA Version: 11.2     |\n",
            "|-------------------------------+----------------------+----------------------+\n",
            "| GPU  Name        Persistence-M| Bus-Id        Disp.A | Volatile Uncorr. ECC |\n",
            "| Fan  Temp  Perf  Pwr:Usage/Cap|         Memory-Usage | GPU-Util  Compute M. |\n",
            "|                               |                      |               MIG M. |\n",
            "|===============================+======================+======================|\n",
            "|   0  Tesla T4            Off  | 00000000:00:04.0 Off |                    0 |\n",
            "| N/A   42C    P8     9W /  70W |      3MiB / 15109MiB |      0%      Default |\n",
            "|                               |                      |                  N/A |\n",
            "+-------------------------------+----------------------+----------------------+\n",
            "                                                                               \n",
            "+-----------------------------------------------------------------------------+\n",
            "| Processes:                                                                  |\n",
            "|  GPU   GI   CI        PID   Type   Process name                  GPU Memory |\n",
            "|        ID   ID                                                   Usage      |\n",
            "|=============================================================================|\n",
            "|  No running processes found                                                 |\n",
            "+-----------------------------------------------------------------------------+\n"
          ]
        }
      ]
    },
    {
      "cell_type": "code",
      "source": [
        "torch.cuda.is_available()"
      ],
      "metadata": {
        "colab": {
          "base_uri": "https://localhost:8080/"
        },
        "id": "MgDzZi6E_tcw",
        "outputId": "0a7f90bd-9662-4f4a-8ead-7d5edac18d3e"
      },
      "execution_count": 64,
      "outputs": [
        {
          "output_type": "execute_result",
          "data": {
            "text/plain": [
              "True"
            ]
          },
          "metadata": {},
          "execution_count": 64
        }
      ]
    },
    {
      "cell_type": "code",
      "source": [
        "# setup device agnostic code\n",
        "import torch\n",
        "device=\"cuda\" if torch.cuda.is_available() else \"cpu\"\n",
        "device"
      ],
      "metadata": {
        "colab": {
          "base_uri": "https://localhost:8080/",
          "height": 35
        },
        "id": "03VzI2CQ_6XP",
        "outputId": "eb272d30-45df-4d02-ff8e-9c262957511e"
      },
      "execution_count": 65,
      "outputs": [
        {
          "output_type": "execute_result",
          "data": {
            "text/plain": [
              "'cuda'"
            ],
            "application/vnd.google.colaboratory.intrinsic+json": {
              "type": "string"
            }
          },
          "metadata": {},
          "execution_count": 65
        }
      ]
    },
    {
      "cell_type": "markdown",
      "source": [
        "## Building a model with non-linearity"
      ],
      "metadata": {
        "id": "ogcVeEYyAjZU"
      }
    },
    {
      "cell_type": "code",
      "source": [
        "# Create a model with non-linear and linear layers\n",
        "\n",
        "class FashionMNISTModelV1(nn.Module):\n",
        "  def __init__(self, input_shape:int,\n",
        "               hidden_units:int,\n",
        "               output_shape:int):\n",
        "    super().__init__()\n",
        "    self.layer_stack = nn.Sequential( # creates a sequence of layers in the network\n",
        "        nn.Flatten(), #flatten the images to get a single vector\n",
        "        nn.Linear(in_features=input_shape, out_features=hidden_units),\n",
        "        nn.ReLU(), #activation function for non-linearity\n",
        "        nn.Linear(in_features=hidden_units, out_features=output_shape), \n",
        "        nn.ReLU()\n",
        "    )\n",
        "    # forward pass the inputs\n",
        "  def forward(self, x: torch.Tensor):\n",
        "    return self.layer_stack(x)"
      ],
      "metadata": {
        "id": "WB3jmVA-AnI9"
      },
      "execution_count": 99,
      "outputs": []
    },
    {
      "cell_type": "markdown",
      "source": [
        "## Pass some input, hidden layers and set the output class and fix the model on a GPU"
      ],
      "metadata": {
        "id": "bsl6jOzLJDET"
      }
    },
    {
      "cell_type": "code",
      "source": [
        "torch.manual_seed(42)\n",
        "\n",
        "model_1 = FashionMNISTModelV1(input_shape=784, #28*28\n",
        "                              hidden_units=10, \n",
        "                              output_shape=len(class_names)\n",
        ").to(device) #device previously set to cuda -> so running the model v1 on that one\n",
        "\n",
        "# check where the model is now -> on the GPU or CPU\n",
        "next(model_1.parameters()).device"
      ],
      "metadata": {
        "colab": {
          "base_uri": "https://localhost:8080/"
        },
        "id": "mVqLoOVSJKF9",
        "outputId": "5d72cd28-d09d-497f-b0c8-a7747633f2a5"
      },
      "execution_count": 100,
      "outputs": [
        {
          "output_type": "execute_result",
          "data": {
            "text/plain": [
              "device(type='cuda', index=0)"
            ]
          },
          "metadata": {},
          "execution_count": 100
        }
      ]
    },
    {
      "cell_type": "markdown",
      "source": [
        "## Set up loss, optimizer and evaluation matrix"
      ],
      "metadata": {
        "id": "xXzJeUzJFI7z"
      }
    },
    {
      "cell_type": "code",
      "source": [
        "# we have the helper function which contains the acc function and optimizer written inside\n",
        "from helper_functions import accuracy_fn\n",
        "\n",
        "# set up the loss function\n",
        "loss_fn = nn.CrossEntropyLoss()\n",
        "optimizer = torch.optim.SGD(params=model_1.parameters(), \n",
        "                            lr=0.1)"
      ],
      "metadata": {
        "id": "gn2zXj9XI-8H"
      },
      "execution_count": 101,
      "outputs": []
    },
    {
      "cell_type": "code",
      "source": [
        "5+5"
      ],
      "metadata": {
        "colab": {
          "base_uri": "https://localhost:8080/"
        },
        "id": "Oq9Vmz4fH2sT",
        "outputId": "f006c07a-4bcb-4688-eb92-ac581c6e2cfb"
      },
      "execution_count": 94,
      "outputs": [
        {
          "output_type": "execute_result",
          "data": {
            "text/plain": [
              "10"
            ]
          },
          "metadata": {},
          "execution_count": 94
        }
      ]
    },
    {
      "cell_type": "markdown",
      "source": [
        "## Create a function for train and test loops"
      ],
      "metadata": {
        "id": "jAzr7Vn7FMQb"
      }
    },
    {
      "cell_type": "code",
      "source": [
        "def train_step(model: torch.nn.Module,\n",
        "               data_loader: torch.utils.data.DataLoader,\n",
        "               loss_fn: torch.nn.Module,\n",
        "               optimizer: torch.optim.Optimizer, \n",
        "               accuracy_fn,\n",
        "               device: torch.device = device):\n",
        "    train_loss, train_acc = 0, 0\n",
        "    for batch, (X, y) in enumerate(data_loader):\n",
        "      # Send data to GPU\n",
        "      X, y = X.to(device), y.to(device)\n",
        "    \n",
        "      # 1. Forward pass\n",
        "      y_pred = model(X)\n",
        "\n",
        "      # 2. Calculate loss and train accuracy\n",
        "      loss = loss_fn(y_pred, y)\n",
        "      train_loss += loss # aggregate the losses per batch\n",
        "      train_acc += accuracy_fn(y_true=y, \n",
        "                             y_pred=y_pred.argmax(dim=1)) # from logits we are taking the predicted labels\n",
        "\n",
        "      # 3. Optimizer zero grad\n",
        "      optimizer.zero_grad() # asking the optimier to find the min gradient\n",
        "    \n",
        "      # 4. Loss backward\n",
        "      loss.backward() # back propagation to tweak the hyperparams\n",
        "\n",
        "      # 5. Optimizer step\n",
        "      optimizer.step() # optimizing with the back propagated values \n",
        "\n",
        "    # Calculate loss and accuracy per epoch and print out what's happening\n",
        "    train_loss /= len(data_loader) # data_loader has all the batches loaded inside\n",
        "    train_acc /= len(data_loader) # finding the values per batch to get the average\n",
        "    # let us print it to see what is happening\n",
        "    print(f\"train_loss = {train_loss:.2f} | train_acc = {train_acc:.2f}%\")\n",
        "\n",
        "# Do the same for test function"
      ],
      "metadata": {
        "id": "3Banzq0GFS3p"
      },
      "execution_count": 115,
      "outputs": []
    },
    {
      "cell_type": "code",
      "source": [
        "# function for the test loop\n",
        "def test_step(data_loader: torch.utils.data.DataLoader, #loading the dataset first in the test_step \n",
        "              model: torch.nn.Module,\n",
        "              loss_fn: torch.nn.Module, \n",
        "              accuracy_fn,\n",
        "              device: torch.device = device):\n",
        "    test_loss, test_acc = 0, 0\n",
        "    model.eval() # put the model in evaluation mode for performance measure\n",
        "\n",
        "    # Turn on inference context manager\n",
        "    with torch.inference_mode():\n",
        "      for X, y in data_loader:\n",
        "        # Send data to GPU\n",
        "        X, y = X.to(device), y.to(device) # passing the test inputs and labels to the GPU\n",
        "        \n",
        "        # 1. Forward pass\n",
        "        test_pred = model(X)\n",
        "        \n",
        "        # 2. Calculate loss and accuracy\n",
        "        test_loss += loss_fn(test_pred, y)\n",
        "        test_acc += accuracy_fn(y_true=y, y_pred=test_pred.argmax(dim=1))\n",
        "\n",
        "      # Adjust metrics and print out\n",
        "      test_loss /= len(data_loader)\n",
        "      test_acc /= len(data_loader)\n",
        "    \n",
        "      # let us print out the acc metrics\n",
        "      print(f\"test_loss = {test_loss:.2f} test_acc = {test_acc:.2f}%\")"
      ],
      "metadata": {
        "id": "ggKCaiphRff1"
      },
      "execution_count": 116,
      "outputs": []
    },
    {
      "cell_type": "code",
      "source": [
        "## Let us now put the model in action and check whats happening\n",
        "\n",
        "torch.manual_seed(42)\n",
        "\n",
        "# let us start the timer\n",
        "from timeit import default_timer as timer\n",
        "train_time_start_on_gpu = timer()\n",
        "\n",
        "# setting the number of epochs\n",
        "epochs = 10\n",
        "\n",
        "for epoch in tqdm(range(epochs)):\n",
        "  print(f\"\\n epoch # {epoch}\\n\")\n",
        "\n",
        "  # set up the train function with our parameters for the model1\n",
        "  train_step(model=model_1, \n",
        "             data_loader=train_dataloader,\n",
        "             loss_fn=loss_fn,\n",
        "             optimizer=optimizer, \n",
        "             accuracy_fn=accuracy_fn)\n",
        "  \n",
        "  # set up the test function similarly\n",
        "  test_step(data_loader=test_dataloader, \n",
        "            model=model_1,\n",
        "            loss_fn=loss_fn,\n",
        "            accuracy_fn=accuracy_fn)\n",
        "  \n",
        "train_time_end_on_gpu = timer()\n",
        "\n",
        "# printing timing and progress bar\n",
        "total_train_time_on_gpu = print_train_time(start=train_time_start_on_gpu,\n",
        "                                           end=train_time_end_on_gpu, \n",
        "                                           device=device)"
      ],
      "metadata": {
        "colab": {
          "base_uri": "https://localhost:8080/",
          "height": 934,
          "referenced_widgets": [
            "5044fda5096f416ebd535b3a7c30fa6c",
            "bd10ff4e53c24c0fb500dcb880102e62",
            "41e5487e9ced429e96a5b828fd0d13cf",
            "d297fe9398af4d29937de68ac192f43f",
            "d887752c66564f42adbad641fe6cf688",
            "1023aaa558a64796952bfdb5494fc1a6",
            "4288d440e84b449190d3a7687ac7e00f",
            "7ce6425a9d954f0a9d584658fc96f845",
            "22acaffe5a2a4c92b78d67b790c19070",
            "c1f2979498bc4469a4164e8f0fd3498a",
            "68f4a7217762497e89d9a443ff5b6792"
          ]
        },
        "id": "A_5BzMUzVP2z",
        "outputId": "7cb58886-d18e-4826-eaf6-04fbceac31cc"
      },
      "execution_count": 122,
      "outputs": [
        {
          "output_type": "display_data",
          "data": {
            "text/plain": [
              "  0%|          | 0/10 [00:00<?, ?it/s]"
            ],
            "application/vnd.jupyter.widget-view+json": {
              "version_major": 2,
              "version_minor": 0,
              "model_id": "5044fda5096f416ebd535b3a7c30fa6c"
            }
          },
          "metadata": {}
        },
        {
          "output_type": "stream",
          "name": "stdout",
          "text": [
            "\n",
            " epoch # 0\n",
            "\n",
            "train_loss = 0.36 | train_acc = 87.06%\n",
            "test_loss = 0.44 test_acc = 84.62%\n",
            "\n",
            " epoch # 1\n",
            "\n",
            "train_loss = 0.36 | train_acc = 87.15%\n",
            "test_loss = 0.44 test_acc = 84.77%\n",
            "\n",
            " epoch # 2\n",
            "\n",
            "train_loss = 0.36 | train_acc = 87.22%\n",
            "test_loss = 0.43 test_acc = 85.07%\n",
            "\n",
            " epoch # 3\n",
            "\n",
            "train_loss = 0.36 | train_acc = 87.28%\n",
            "test_loss = 0.44 test_acc = 85.17%\n",
            "\n",
            " epoch # 4\n",
            "\n",
            "train_loss = 0.36 | train_acc = 87.35%\n",
            "test_loss = 0.45 test_acc = 84.38%\n",
            "\n",
            " epoch # 5\n",
            "\n",
            "train_loss = 0.35 | train_acc = 87.36%\n",
            "test_loss = 0.45 test_acc = 84.70%\n",
            "\n",
            " epoch # 6\n",
            "\n",
            "train_loss = 0.35 | train_acc = 87.53%\n",
            "test_loss = 0.44 test_acc = 84.89%\n",
            "\n",
            " epoch # 7\n",
            "\n",
            "train_loss = 0.35 | train_acc = 87.38%\n",
            "test_loss = 0.44 test_acc = 84.93%\n",
            "\n",
            " epoch # 8\n",
            "\n",
            "train_loss = 0.35 | train_acc = 87.52%\n",
            "test_loss = 0.43 test_acc = 84.96%\n",
            "\n",
            " epoch # 9\n",
            "\n",
            "train_loss = 0.35 | train_acc = 87.36%\n",
            "test_loss = 0.43 test_acc = 84.99%\n",
            "training time taken on cuda: 77.051 seconds\n"
          ]
        }
      ]
    }
  ]
}